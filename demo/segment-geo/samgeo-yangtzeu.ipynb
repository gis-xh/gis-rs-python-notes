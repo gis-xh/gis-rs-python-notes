{
 "cells": [
  {
   "attachments": {},
   "cell_type": "markdown",
   "id": "64b15e14-cc33-4a3a-9645-f47d34a22435",
   "metadata": {},
   "source": [
    "0. 由于其复杂的依赖环境，必须使用 mamba 库创建虚拟环境\n",
    "\n",
    "1. 给基础环境安装 mamba 库\n",
    "\n",
    "```\n",
    "conda install -n base mamba -c conda-forge -y\n",
    "```\n",
    "\n",
    "2. 使用 mamba 创建虚拟环境\n",
    "\n",
    "```\n",
    "mamba create -n samgeo segment-geospatial python=3.9 -c conda-forge\n",
    "```\n",
    "\n",
    "3. 激活虚拟环境\n",
    "\n",
    "```\n",
    "conda activate samgeo\n",
    "```\n",
    "\n",
    "4. conda 安装 cuda11.3 支持\n",
    "\n",
    "```\n",
    "conda install cudatoolkit=11.3 -c conda-forge -y\n",
    "```\n",
    "\n",
    "5. pip 重新安装 pytorch\n",
    "\n",
    "```\n",
    "pip install torch==1.12.1+cu113 torchvision==0.13.1+cu113 --extra-index-url https://download.pytorch.org/whl/cu113\n",
    "```"
   ]
  },
  {
   "cell_type": "code",
   "execution_count": 2,
   "id": "57cfa9a7-6656-45c7-b176-94306c6f8479",
   "metadata": {
    "tags": []
   },
   "outputs": [],
   "source": [
    "import os\n",
    "import leafmap\n",
    "from samgeo import SamGeo, tms_to_geotiff"
   ]
  },
  {
   "attachments": {},
   "cell_type": "markdown",
   "id": "d26a9967",
   "metadata": {},
   "source": [
    "## 1 数据准备"
   ]
  },
  {
   "attachments": {},
   "cell_type": "markdown",
   "id": "7a7cf6f6",
   "metadata": {},
   "source": [
    "### 1.1 加载交互式地图"
   ]
  },
  {
   "cell_type": "code",
   "execution_count": 9,
   "id": "2d86bd15",
   "metadata": {},
   "outputs": [
    {
     "data": {
      "application/vnd.jupyter.widget-view+json": {
       "model_id": "49b2759999d44ed896ea6a214cafdcb2",
       "version_major": 2,
       "version_minor": 0
      },
      "text/plain": [
       "Map(center=[30.532181687, 114.024938132], controls=(ZoomControl(options=['position', 'zoom_in_text', 'zoom_in_…"
      ]
     },
     "execution_count": 9,
     "metadata": {},
     "output_type": "execute_result"
    }
   ],
   "source": [
    "point = [30.532181687, 114.024938132]\n",
    "Map = leafmap.Map(center=point, zoom=15)\n",
    "Map.add_basemap(\"SATELLITE\")\n",
    "Map"
   ]
  },
  {
   "attachments": {},
   "cell_type": "markdown",
   "id": "0e347530",
   "metadata": {},
   "source": [
    "### 1.2 下载地图瓦片"
   ]
  },
  {
   "attachments": {},
   "cell_type": "markdown",
   "id": "3278de54",
   "metadata": {},
   "source": [
    "绘制多边形边界，先检查是否已绘制边界，如果没有就按照指定左上右下角的坐标绘制。"
   ]
  },
  {
   "cell_type": "code",
   "execution_count": 4,
   "id": "83ab9c67",
   "metadata": {},
   "outputs": [],
   "source": [
    "if Map.user_roi_bounds() is not None:\n",
    "    bbox = Map.user_roi_bounds()\n",
    "else:\n",
    "    bbox = [114.018859863, 30.540618896, 114.030532837, 30.526885986]"
   ]
  },
  {
   "attachments": {},
   "cell_type": "markdown",
   "id": "ef6bfd22",
   "metadata": {},
   "source": [
    "按照指定输出路径下载地图，可以根据需求设置以下参数:\n",
    "\n",
    "- `zoom=16`: 缩放级别为 16 级，下载影像时与分辨率二选一即可\n",
    "\n",
    "- `resolution=None`: 设置分辨率，float 类型，以米为单位，默认为 None\n",
    "\n",
    "- `source=\"SATELLITE\"`: 下载的地图源为谷歌卫星影像（如 \"OPENSTREETMAP\", \"ROADMAP\", \"SATELLITE\" 等）\n",
    "\n",
    "- `crs='EPSG:4326'`: 以 EPSG 码设置下载影像的坐标系\n",
    "\n",
    "- `overwrite=True`: 若同名文件已存在，则会覆写文件"
   ]
  },
  {
   "cell_type": "code",
   "execution_count": 5,
   "id": "a1cc2307-8b43-41df-968b-f773b1b49261",
   "metadata": {},
   "outputs": [
    {
     "name": "stdout",
     "output_type": "stream",
     "text": [
      "Downloaded image 01/12\n",
      "Downloaded image 02/12\n",
      "Downloaded image 03/12\n",
      "Downloaded image 04/12\n",
      "Downloaded image 05/12\n",
      "Downloaded image 06/12\n",
      "Downloaded image 07/12\n",
      "Downloaded image 08/12\n",
      "Downloaded image 09/12\n",
      "Downloaded image 10/12\n",
      "Downloaded image 11/12\n",
      "Downloaded image 12/12\n",
      "Saving GeoTIFF. Please wait...\n",
      "Image saved to ..\\data\\tif\\yangtzeu_wh_L16.tif\n"
     ]
    }
   ],
   "source": [
    "yangtzeu = \"..\\\\data\\\\tif\\\\yangtzeu_wh_L16.tif\"\n",
    "\n",
    "tms_to_geotiff(\n",
    "    output=yangtzeu,\n",
    "    bbox=bbox,\n",
    "    zoom=16,\n",
    "    resolution=None,\n",
    "    source=\"Satellite\",\n",
    "    crs='EPSG:4326',\n",
    "    overwrite=True,\n",
    ")"
   ]
  },
  {
   "cell_type": "code",
   "execution_count": null,
   "id": "7832429c",
   "metadata": {},
   "outputs": [],
   "source": [
    "Map.add_raster(yangtzeu, alpha=0.5, layer_name=\"长江大学武汉校区\")\n",
    "Map"
   ]
  },
  {
   "attachments": {},
   "cell_type": "markdown",
   "id": "44277c1c-b1e7-43cb-8f8a-945b3a6bf15c",
   "metadata": {},
   "source": [
    "### 1.3 配置输出环境"
   ]
  },
  {
   "cell_type": "code",
   "execution_count": null,
   "id": "e2ea227c-b272-40d3-941f-d3202364a394",
   "metadata": {},
   "outputs": [],
   "source": [
    "tif_dir = os.path.join(\n",
    "    os.path.expanduser(\"./output/\"),\n",
    "    'tif'\n",
    ")\n",
    "if not os.path.exists(tif_dir):\n",
    "    os.makedirs(tif_dir)\n",
    "\n",
    "shp_dir = os.path.join(\n",
    "    os.path.expanduser(\"./output/\"),\n",
    "    'shp'\n",
    ")\n",
    "if not os.path.exists(shp_dir):\n",
    "    os.makedirs(shp_dir)"
   ]
  },
  {
   "attachments": {},
   "cell_type": "markdown",
   "id": "9d40f560-1968-4d9d-9f25-ccfc01224405",
   "metadata": {},
   "source": [
    "## 2 训练模型"
   ]
  },
  {
   "attachments": {},
   "cell_type": "markdown",
   "id": "4d7c5f23",
   "metadata": {},
   "source": [
    "### 2.1 初始化SAM类"
   ]
  },
  {
   "cell_type": "code",
   "execution_count": null,
   "id": "8ed6d65b-5c74-4649-839c-7a2d135ba88f",
   "metadata": {},
   "outputs": [],
   "source": [
    "sam = SamGeo(\n",
    "    model_type=\"vit_h\",\n",
    "    checkpoint=\"sam_vit_h_4b8939.pth\",\n",
    "    automatic=True,\n",
    "    device=\"cuda\",\n",
    "    sam_kwargs=None,\n",
    ")"
   ]
  },
  {
   "attachments": {},
   "cell_type": "markdown",
   "id": "5698e853",
   "metadata": {},
   "source": [
    "### 2.2 分割影像"
   ]
  },
  {
   "cell_type": "code",
   "execution_count": null,
   "id": "3b6bc2e7-27c7-426d-a2be-ef72cf9f572c",
   "metadata": {},
   "outputs": [],
   "source": [
    "out_mask = os.path.join(tif_dir, \"yangtzeu_wh_masks.tif\")"
   ]
  },
  {
   "cell_type": "code",
   "execution_count": null,
   "id": "f54b6349",
   "metadata": {},
   "outputs": [],
   "source": [
    "# 清除 cuda 缓存\n",
    "sam.clear_cuda_cache()"
   ]
  },
  {
   "attachments": {},
   "cell_type": "markdown",
   "id": "6e0b95ca",
   "metadata": {},
   "source": [
    "为输入图像生成 mask 掩膜，根据需要修改三个参数：\n",
    "\n",
    "- `batch=True`: 批量分割图像，这对于无法放入内存的大图像很有用。\n",
    "\n",
    "- `erosion_kernel=None`: 过滤对象掩码和提取边界的侵蚀核的参数设置。侵蚀核是一个矩阵，用于对图像进行形态学变换，以去除噪声或细化边缘，它的值是 None 或矩阵（如(3,3)或(5,5)）。矩阵的大小决定了侵蚀的程度，矩阵越大，侵蚀越强，图像中的白色区域越小。选择合适的矩阵大小要根据图像的特征和目标来决定。如果矩阵太小，可能无法有效地去除噪声或分离物体；如果矩阵太大，可能会损失图像中的重要信息或造成过度腐蚀\n",
    "\n",
    "- `unique=True`: 给每个对象分配唯一编码值\n"
   ]
  },
  {
   "cell_type": "code",
   "execution_count": null,
   "id": "933dc9a0-030f-4e8f-b370-bfe371463b3e",
   "metadata": {},
   "outputs": [],
   "source": [
    "sam.generate(\n",
    "    source=yangtzeu,\n",
    "    output=out_mask,\n",
    "    foreground=True,\n",
    "    batch=True,\n",
    "    erosion_kernel=None,\n",
    "    unique=True\n",
    ")"
   ]
  },
  {
   "cell_type": "code",
   "execution_count": null,
   "id": "c2583eec-76bd-4d9b-bc82-1303339fb707",
   "metadata": {},
   "outputs": [],
   "source": [
    "sam.show_masks(cmap=\"binary_r\")"
   ]
  },
  {
   "attachments": {},
   "cell_type": "markdown",
   "id": "3e2ae11f",
   "metadata": {},
   "source": [
    "### 2.3 矢量化栅格数据"
   ]
  },
  {
   "cell_type": "code",
   "execution_count": null,
   "id": "2f6f7009-54df-4ba9-aa03-a91f928aebf4",
   "metadata": {},
   "outputs": [],
   "source": [
    "out_shp = os.path.join(shp_dir, \"yangtzeu_wh_masks.shp\")"
   ]
  },
  {
   "attachments": {},
   "cell_type": "markdown",
   "id": "d0acd8d0",
   "metadata": {},
   "source": [
    "将 tiff 文件转换为矢量文件，`simplify_tolerance` 可以对输出矢量数据进行简化，值越大越简化。"
   ]
  },
  {
   "cell_type": "code",
   "execution_count": null,
   "id": "04fa3403-3880-4de5-8a26-0d49e928c517",
   "metadata": {},
   "outputs": [],
   "source": [
    "sam.tiff_to_vector(out_mask, out_shp, simplify_tolerance=None)"
   ]
  },
  {
   "attachments": {},
   "cell_type": "markdown",
   "id": "49cadb24-31d4-4535-a2c4-132472c85fbe",
   "metadata": {},
   "source": [
    "## 3 可视化结果"
   ]
  },
  {
   "cell_type": "code",
   "execution_count": null,
   "id": "5d3b9c50-44b4-4e53-8267-838a56940160",
   "metadata": {},
   "outputs": [],
   "source": [
    "style = {\n",
    "    \"color\": \"#3388ff\",\n",
    "    \"weight\": 2,\n",
    "    \"fillColor\": \"#7c4185\",\n",
    "    \"fillOpacity\": 0.5,\n",
    "}\n",
    "Map.add_vector(out_shp, layer_name=\"Vector\", style=style)\n",
    "Map"
   ]
  },
  {
   "cell_type": "code",
   "execution_count": null,
   "id": "a346e8ae-9821-4d30-a819-be89d5be1b64",
   "metadata": {},
   "outputs": [],
   "source": []
  },
  {
   "cell_type": "code",
   "execution_count": null,
   "id": "367164c9-7ed8-47ce-85f8-2a791da480dc",
   "metadata": {},
   "outputs": [],
   "source": []
  }
 ],
 "metadata": {
  "kernelspec": {
   "display_name": "Python 3 (ipykernel)",
   "language": "python",
   "name": "python3"
  },
  "language_info": {
   "codemirror_mode": {
    "name": "ipython",
    "version": 3
   },
   "file_extension": ".py",
   "mimetype": "text/x-python",
   "name": "python",
   "nbconvert_exporter": "python",
   "pygments_lexer": "ipython3",
   "version": "3.9.16"
  }
 },
 "nbformat": 4,
 "nbformat_minor": 5
}
