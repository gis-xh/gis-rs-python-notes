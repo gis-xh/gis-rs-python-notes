{
 "cells": [
  {
   "attachments": {},
   "cell_type": "markdown",
   "id": "6967bab6-85f8-4809-9bba-9dee0d4cfa0e",
   "metadata": {},
   "source": [
    "# 农作物分类可视化分析——以玉米和大豆为例"
   ]
  },
  {
   "cell_type": "code",
   "execution_count": null,
   "id": "e0c54503",
   "metadata": {},
   "outputs": [],
   "source": [
    "# %%!pip install geemap pandas matplotlib"
   ]
  },
  {
   "cell_type": "code",
   "execution_count": 1,
   "id": "bb7537cf-88ae-42b5-866d-e4b34356ae14",
   "metadata": {},
   "outputs": [],
   "source": [
    "import ee\n",
    "import geemap\n",
    "ee.Initialize()\n",
    "geemap.set_proxy(port=\"7890\") # Colab 中运行时不需要"
   ]
  },
  {
   "cell_type": "code",
   "execution_count": 2,
   "id": "135ceb32-5bb7-4e47-a9a0-9d88914f0426",
   "metadata": {},
   "outputs": [],
   "source": [
    "import numpy as np\n",
    "import pandas as pd\n",
    "import matplotlib.pyplot as plt"
   ]
  },
  {
   "attachments": {},
   "cell_type": "markdown",
   "id": "1196a780-23b8-4463-a252-eced1051a4f9",
   "metadata": {},
   "source": [
    "## 1 提取研究区域所有 Landsat 影像"
   ]
  },
  {
   "attachments": {},
   "cell_type": "markdown",
   "id": "c29f37be-a10c-405d-893d-8f3faae9a115",
   "metadata": {},
   "source": [
    "### 1.1 定义研究区域并可视化"
   ]
  },
  {
   "cell_type": "code",
   "execution_count": 3,
   "id": "3abe06a5-b06c-4681-a8ef-1166c2685dae",
   "metadata": {},
   "outputs": [
    {
     "data": {
      "application/vnd.jupyter.widget-view+json": {
       "model_id": "10246c2e129046768824f3405aca84b2",
       "version_major": 2,
       "version_minor": 0
      },
      "text/plain": [
       "Map(center=[20, 0], controls=(WidgetControl(options=['position', 'transparent_bg'], widget=HBox(children=(Togg…"
      ]
     },
     "metadata": {},
     "output_type": "display_data"
    }
   ],
   "source": [
    "TIGER = ee.FeatureCollection('TIGER/2018/Counties')\n",
    "region = ee.Feature(TIGER.filter(ee.Filter.eq('STATEFP', '17')) \\\n",
    "   .filter(ee.Filter.eq('NAME', 'McLean')) \\\n",
    "   .first()).geometry()\n",
    "Map = geemap.Map()\n",
    "Map.centerObject(region)\n",
    "Map.addLayer(region, {'color': 'red'}, 'McLean County')\n",
    "Map"
   ]
  },
  {
   "attachments": {},
   "cell_type": "markdown",
   "id": "8c0d982a-68e6-4a93-8399-19ff4582fe03",
   "metadata": {},
   "source": [
    "### 1.2 加载 Landsat 7 和 8 L2 级影像"
   ]
  },
  {
   "cell_type": "code",
   "execution_count": 4,
   "id": "c03d7725-1ead-4d09-90ea-2261b06d520e",
   "metadata": {},
   "outputs": [],
   "source": [
    "landsat7 = ee.ImageCollection('LANDSAT/LE07/C02/T1_L2')\n",
    "landsat8 = ee.ImageCollection('LANDSAT/LC08/C02/T1_L2')"
   ]
  },
  {
   "attachments": {},
   "cell_type": "markdown",
   "id": "a382d4b8-a8f2-487a-92b4-71c22825419e",
   "metadata": {},
   "source": [
    "### 1.3 重命名 Landsat 波段"
   ]
  },
  {
   "cell_type": "code",
   "execution_count": 5,
   "id": "11c19107-fcf5-4ca8-a9bf-6efe848b22ea",
   "metadata": {},
   "outputs": [],
   "source": [
    "def renameL7(img):\n",
    "    img = img.rename([\n",
    "        'BLUE', 'GREEN', 'RED', 'NIR',\n",
    "        'SWIR1', 'SWIR2', 'TEMP1',\n",
    "        'ATMOS_OPACITY', 'QA_CLOUD',\n",
    "        'ATRAN', 'CDIST',\n",
    "        'DRAD', 'EMIS', 'EMSD', 'QA', 'TRAD', 'URAD',\n",
    "        'QA_PIXEL', 'QA_RADSAT'\n",
    "    ])\n",
    "    return img\n",
    "\n",
    "def renameL8(img):\n",
    "    img = img.rename([\n",
    "        'AEROS',\n",
    "        'BLUE', 'GREEN', 'RED', 'NIR',\n",
    "        'SWIR1', 'SWIR2', 'TEMP1',\n",
    "        'QA_AEROSOL',\n",
    "        'ATRAN', 'CDIST',\n",
    "        'DRAD', 'EMIS', 'EMSD', 'QA', 'TRAD', 'URAD',\n",
    "        'QA_PIXEL', 'QA_RADSAT'\n",
    "    ])\n",
    "    return img"
   ]
  },
  {
   "attachments": {},
   "cell_type": "markdown",
   "id": "c9cc1be9-7b9c-4fe0-8a7f-b6c235d923d6",
   "metadata": {},
   "source": [
    "### 1.4 去云掩膜"
   ]
  },
  {
   "cell_type": "code",
   "execution_count": 6,
   "id": "9b8b1443-a7bf-47f8-b4b7-703010d35773",
   "metadata": {},
   "outputs": [],
   "source": [
    "def addMask(img):\n",
    "    # Bit 0: Fill\n",
    "    # Bit 1: Dilated Cloud\n",
    "    # Bit 2: Cirrus (high confidence) (L8) or unused (L7)\n",
    "    # Bit 3: Cloud\n",
    "    # Bit 4: Cloud Shadow\n",
    "    # Bit 5: Snow\n",
    "    # Bit 6: Clear\n",
    "    #        0: Cloud or Dilated Cloud bits are set\n",
    "    #        1: Cloud and Dilated Cloud bits are not set\n",
    "    # Bit 7: Water\n",
    "    clear = img.select('QA_PIXEL').bitwiseAnd(64).neq(0)\n",
    "    clear = clear.updateMask(clear).rename(['pxqa_clear'])\n",
    "\n",
    "    water = img.select('QA_PIXEL').bitwiseAnd(128).neq(0)\n",
    "    water = water.updateMask(water).rename(['pxqa_water'])\n",
    "\n",
    "    cloud_shadow = img.select('QA_PIXEL').bitwiseAnd(16).neq(0)\n",
    "    cloud_shadow = cloud_shadow.updateMask(cloud_shadow).rename([\n",
    "       'pxqa_cloudshadow'\n",
    "    ])\n",
    "\n",
    "    snow = img.select('QA_PIXEL').bitwiseAnd(32).neq(0)\n",
    "    snow = snow.updateMask(snow).rename(['pxqa_snow'])\n",
    "\n",
    "    masks = ee.Image.cat([\n",
    "       clear, water, cloud_shadow, snow\n",
    "    ])\n",
    "    return img.addBands(masks)\n",
    "\n",
    "def maskQAClear(img):\n",
    "    return img.updateMask(img.select('pxqa_clear'))"
   ]
  },
  {
   "attachments": {},
   "cell_type": "markdown",
   "id": "60437bd2-8dc4-45ca-81e8-dd8e6f30dca5",
   "metadata": {},
   "source": [
    "### 1.5 计算并添加 GCVI 波段"
   ]
  },
  {
   "cell_type": "code",
   "execution_count": 7,
   "id": "033e7cb7-94be-4983-9ea2-f6bd55e4d151",
   "metadata": {},
   "outputs": [],
   "source": [
    "def addGCVI(img):\n",
    "    gcvi = img.expression(\n",
    "        '(nir / green) - 1',\n",
    "        {\n",
    "            'nir': img.select('NIR'),\n",
    "            'green': img.select('GREEN')\n",
    "        }).select([0], ['GCVI'])\n",
    "    return ee.Image.cat([img, gcvi])"
   ]
  },
  {
   "attachments": {},
   "cell_type": "markdown",
   "id": "06e6557a-65ee-4c66-9c94-f95ef1ce879b",
   "metadata": {},
   "source": [
    "### 1.6 筛选处理数据"
   ]
  },
  {
   "cell_type": "code",
   "execution_count": 8,
   "id": "d2dfb06b-7c9a-41b4-a395-24b3522320c6",
   "metadata": {},
   "outputs": [],
   "source": [
    "start_date = '2020-01-01'\n",
    "end_date = '2020-12-31'\n",
    "\n",
    "# 筛选出起止日期间研究区域的Landsat 7 和 8 数据\n",
    "landsat7coll = landsat7.filterBounds(region) \\\n",
    "    .filterDate(start_date, end_date) \\\n",
    "    .map(renameL7)\n",
    "\n",
    "landsat8coll = landsat8.filterBounds(region) \\\n",
    "    .filterDate(start_date, end_date) \\\n",
    "    .map(renameL8)"
   ]
  },
  {
   "cell_type": "code",
   "execution_count": 9,
   "id": "058534aa-97b0-4e56-ad67-b1b9f8627848",
   "metadata": {},
   "outputs": [],
   "source": [
    "# 融合筛选处理后的 Landsat 7 和 8 影像集合 \n",
    "landsat = landsat7coll.merge(landsat8coll).sort('system:time_start')\n",
    "\n",
    "# 屏蔽不清晰的像素，添加 GCVI 和 time 变量\n",
    "landsat = landsat.map(addMask).map(maskQAClear).map(addGCVI)"
   ]
  },
  {
   "attachments": {},
   "cell_type": "markdown",
   "id": "21fa10d3-26e6-4fce-8c45-95727b4092b4",
   "metadata": {},
   "source": [
    "### 1.7 图表可视化"
   ]
  },
  {
   "cell_type": "code",
   "execution_count": 10,
   "id": "7a8d52a9-beda-4e40-8b75-1d6860e50e40",
   "metadata": {},
   "outputs": [],
   "source": [
    "point = ee.Geometry.Point([-88.81417685576481, 40.579804398254005])"
   ]
  },
  {
   "cell_type": "code",
   "execution_count": 11,
   "id": "74abfc25-6111-4316-bb74-a9b40c4bb09c",
   "metadata": {},
   "outputs": [],
   "source": [
    "# 提取该点上每张影像的 GCVI 值\n",
    "# 并返回一个包含 GCVI 值和时间属性的Feature\n",
    "def get_gcvi_and_date(image):\n",
    "    # 获取某一点上的 GCVI 值\n",
    "    gcvi = image.select('GCVI').reduceRegion(ee.Reducer.first(), point)\n",
    "    # 获取影像的日期，使用ee.Date()方法，并格式化为YYYY-MM-dd\n",
    "    date = ee.Date(image.get('system:time_start')).format('YYYY-MM-dd')\n",
    "    # 返回一个包含 GCVI 值和时间属性的要素\n",
    "    return ee.Feature(point, {'date': date, 'gcvi': gcvi})\n",
    "\n",
    "# 使用ee.ImageCollection.map()方法来对影像集合中每个影像应用上面定义的函数\n",
    "# map()函数返回的是一个ee.ComputedObject类型的对象\n",
    "# 需要将结果转化为ee.FeatureCollection\n",
    "gcvi_val = ee.FeatureCollection(landsat.map(get_gcvi_and_date))"
   ]
  },
  {
   "cell_type": "code",
   "execution_count": 12,
   "id": "66c87b1d-6538-4027-af7a-1e50bcaaa2ee",
   "metadata": {},
   "outputs": [],
   "source": [
    "# 将要素集合类型的数据导出成表格\n",
    "df = geemap.ee_to_pandas(gcvi_val)\n",
    "df['date'] = pd.to_datetime(df['date'], format='%Y-%m-%d')\n",
    "# 使用apply()方法来获取每个字典中的GCVI值\n",
    "df['gcvi'] = df['gcvi'].apply(lambda x: x['GCVI'])\n",
    "# 将gcvi列中的空值设置为NaN\n",
    "df['gcvi'] = df['gcvi'].replace('', np.nan)\n",
    "GCVI_output = './output/gcvi_chart.xlsx'\n",
    "df.to_excel(GCVI_output, index=False)"
   ]
  },
  {
   "cell_type": "code",
   "execution_count": 13,
   "id": "2e43c1c6-e1cf-4926-9bd7-985640302749",
   "metadata": {},
   "outputs": [
    {
     "data": {
      "image/png": "[encoded data removed]",
      "text/plain": [
       "<Figure size 1000x300 with 1 Axes>"
      ]
     },
     "metadata": {},
     "output_type": "display_data"
    }
   ],
   "source": [
    "# 读取表格数据绘制折线图\n",
    "GCVI_df = pd.read_excel(GCVI_output)\n",
    "\n",
    "plt.figure(figsize=(10, 3))\n",
    "GCVI_df['date'] = GCVI_df['date'].dt.strftime('%Y-%m-%d')\n",
    "# 将gcvi列中的空值设置为NaN\n",
    "GCVI_df['gcvi'] = GCVI_df['gcvi'].replace('', np.nan)\n",
    "\n",
    "# 绘制折线图，使用日期作为x轴，GCVI值作为y轴\n",
    "plt.plot(GCVI_df['date'], GCVI_df['gcvi'], 'b-', marker='o', linewidth=1.0)\n",
    "plt.ylabel('GCVI', labelpad=10)\n",
    "plt.xticks(np.arange(0, len(GCVI_df), 15))\n",
    "plt.title('Landsat GCVI time series', pad=10)\n",
    "# 网格线\n",
    "plt.grid(True)\n",
    "# 去除绘制边框\n",
    "plt.box(False)\n",
    "# 通过修改x轴样式来实现底部边框效果\n",
    "plt.axhline(0, color='black', linewidth=1.0)\n",
    "# 将x轴和y轴修改样式，不显示刻度位置，只显示刻度数字\n",
    "plt.tick_params(axis='both', length=0)\n",
    "# 添加折线图例\n",
    "plt.legend(['GCVI'])\n",
    "\n",
    "# 保存图形为一个png文件，分辨率为300dpi，要放在图像绘制之前\n",
    "out_file = \"./output/Landsat_GCVI_time_series.png\"\n",
    "plt.savefig(out_file, dpi=300)\n",
    "plt.show()"
   ]
  },
  {
   "attachments": {},
   "cell_type": "markdown",
   "id": "5519d458-5b06-4e6d-abfb-ad3e5999e9d4",
   "metadata": {},
   "source": [
    "### 1.8 获取作物类型数据集"
   ]
  },
  {
   "cell_type": "code",
   "execution_count": 14,
   "id": "7df98cad-63b0-4923-8eb5-642b6de5b06c",
   "metadata": {},
   "outputs": [
    {
     "data": {
      "application/vnd.jupyter.widget-view+json": {
       "model_id": "10246c2e129046768824f3405aca84b2",
       "version_major": 2,
       "version_minor": 0
      },
      "text/plain": [
       "Map(center=[40.51926422440161, -88.86431136556666], controls=(WidgetControl(options=['position', 'transparent_…"
      ]
     },
     "metadata": {},
     "output_type": "display_data"
    }
   ],
   "source": [
    "cdl = ee.Image('USDA/NASS/CDL/2020').select(['cropland'])\n",
    "Map.addLayer(cdl.clip(region), {}, 'CDL 2020')\n",
    "Map"
   ]
  },
  {
   "attachments": {},
   "cell_type": "markdown",
   "id": "b28fd344-0baf-48d5-94d6-f58b82488ef1",
   "metadata": {},
   "source": [
    "## 2 向 Landsat 影像添加进行谐波回归后的波段"
   ]
  },
  {
   "attachments": {},
   "cell_type": "markdown",
   "id": "811cb0d3",
   "metadata": {},
   "source": [
    "### 2.1 为图像添加时间波段"
   ]
  },
  {
   "cell_type": "code",
   "execution_count": 15,
   "id": "88154c3a-8c51-41e4-8380-61261d9d1c94",
   "metadata": {},
   "outputs": [],
   "source": [
    "def addTimeUnit(image, refdate):\n",
    "   date = image.date()\n",
    "   dyear = date.difference(refdate, 'year')\n",
    "   t = image.select(0).multiply(0).add(dyear).select([0], ['t']).float()\n",
    "   imageplus = image.addBands(t)\n",
    "   return imageplus"
   ]
  },
  {
   "attachments": {},
   "cell_type": "markdown",
   "id": "204574c0-35b3-4ae4-a328-02bc5037a9aa",
   "metadata": {},
   "source": [
    "### 2.2 向图像添加谐波基波段"
   ]
  },
  {
   "cell_type": "code",
   "execution_count": 16,
   "id": "575093b9",
   "metadata": {},
   "outputs": [],
   "source": [
    "import math\n",
    "\n",
    "def addHarmonics(image, omega, refdate):\n",
    "    image = addTimeUnit(image, refdate)\n",
    "    timeRadians = image.select('t').multiply(2 * math.pi * omega)\n",
    "    timeRadians2 = image.select('t').multiply(4 * math.pi * omega)\n",
    "\n",
    "    return image.addBands(timeRadians.cos().rename('cos')) \\\n",
    "        .addBands(timeRadians.sin().rename('sin')) \\\n",
    "        .addBands(timeRadians2.cos().rename('cos2')) \\\n",
    "        .addBands(timeRadians2.sin().rename('sin2')) \\\n",
    "        .addBands(timeRadians.divide(timeRadians).rename('constant'))"
   ]
  },
  {
   "cell_type": "code",
   "execution_count": 17,
   "id": "22bf4af3",
   "metadata": {},
   "outputs": [],
   "source": [
    "omega = 1\n",
    "def use_addHarmonics(image):\n",
    "    return addHarmonics(image, omega, start_date)\n",
    "landsatPlus = landsat.map(use_addHarmonics)"
   ]
  },
  {
   "attachments": {},
   "cell_type": "markdown",
   "id": "f7063935",
   "metadata": {},
   "source": [
    "## 3 在每个 Landsat 像素拟合一个调和回归"
   ]
  },
  {
   "attachments": {},
   "cell_type": "markdown",
   "id": "4994196d",
   "metadata": {},
   "source": [
    "### 3.1 图像上运行线性回归函数"
   ]
  },
  {
   "cell_type": "code",
   "execution_count": 18,
   "id": "89f5e092",
   "metadata": {},
   "outputs": [],
   "source": [
    "def arrayimgHarmonicRegr(harmonicColl, dependent, independents):\n",
    "    independents = ee.List(independents)\n",
    "    dependent = ee.String(dependent)\n",
    "\n",
    "    regression = harmonicColl.select(independents.add(dependent)) \\\n",
    "        .reduce(ee.Reducer.linearRegression(independents.length(), 1))\n",
    "    return regression"
   ]
  },
  {
   "attachments": {},
   "cell_type": "markdown",
   "id": "cbdd539e",
   "metadata": {},
   "source": [
    "### 3.2 提取和重命名回归系数"
   ]
  },
  {
   "cell_type": "code",
   "execution_count": 19,
   "id": "3bc12049",
   "metadata": {},
   "outputs": [],
   "source": [
    "def imageHarmonicRegr(harmonicColl, dependent, independents):\n",
    "    hregr = arrayimgHarmonicRegr(harmonicColl, dependent, independents)\n",
    "    independents = ee.List(independents)\n",
    "    dependent = ee.String(dependent)\n",
    "\n",
    "    def func_qur(b):\n",
    "        return dependent.cat(ee.String('_')).cat(ee.String(b))\n",
    "\n",
    "    newNames = independents.map(func_qur)\n",
    "    imgCoeffs = hregr.select('coefficients') \\\n",
    "        .arrayProject([0]) \\\n",
    "        .arrayFlatten([independents]) \\\n",
    "        .select(independents, newNames)\n",
    "    return imgCoeffs"
   ]
  },
  {
   "cell_type": "code",
   "execution_count": 20,
   "id": "67af4594",
   "metadata": {},
   "outputs": [],
   "source": [
    "def getHarmonicCoeffs(harmonicColl, bands, independents):\n",
    "    def use_imageHarmonicRegr(band):\n",
    "        return imageHarmonicRegr(harmonicColl, band, independents)\n",
    "    coefficients = ee.ImageCollection.fromImages(bands.map(use_imageHarmonicRegr))\n",
    "    return coefficients.toBands()"
   ]
  },
  {
   "cell_type": "markdown",
   "id": "15249a45",
   "metadata": {},
   "source": [
    "### 3.3 应用函数得到含有谐波波段的图像"
   ]
  },
  {
   "cell_type": "code",
   "execution_count": 21,
   "id": "5cc12a8c",
   "metadata": {},
   "outputs": [],
   "source": [
    "bands = ee.List(['NIR', 'SWIR1', 'SWIR2', 'GCVI'])\n",
    "independents = ee.List(['constant', 'cos', 'sin', 'cos2', 'sin2'])\n",
    "harmonics = getHarmonicCoeffs(landsatPlus, bands, independents)\n",
    "\n",
    "harmonics = harmonics.clip(region)\n",
    "harmonics = harmonics.multiply(10000).toInt32()"
   ]
  },
  {
   "cell_type": "code",
   "execution_count": 22,
   "id": "808af5b3",
   "metadata": {},
   "outputs": [
    {
     "data": {
      "text/plain": [
       "['0_NIR_constant',\n",
       " '0_NIR_cos',\n",
       " '0_NIR_sin',\n",
       " '0_NIR_cos2',\n",
       " '0_NIR_sin2',\n",
       " '1_SWIR1_constant',\n",
       " '1_SWIR1_cos',\n",
       " '1_SWIR1_sin',\n",
       " '1_SWIR1_cos2',\n",
       " '1_SWIR1_sin2',\n",
       " '2_SWIR2_constant',\n",
       " '2_SWIR2_cos',\n",
       " '2_SWIR2_sin',\n",
       " '2_SWIR2_cos2',\n",
       " '2_SWIR2_sin2',\n",
       " '3_GCVI_constant',\n",
       " '3_GCVI_cos',\n",
       " '3_GCVI_sin',\n",
       " '3_GCVI_cos2',\n",
       " '3_GCVI_sin2']"
      ]
     },
     "execution_count": 22,
     "metadata": {},
     "output_type": "execute_result"
    }
   ],
   "source": [
    "nowBands = harmonics.bandNames().remove('cropland').remove('system:index')\n",
    "nowBands.getInfo()"
   ]
  },
  {
   "cell_type": "markdown",
   "id": "3edf184d",
   "metadata": {},
   "source": [
    "### 3.4 计算 GCVI 拟合值"
   ]
  },
  {
   "cell_type": "code",
   "execution_count": 23,
   "id": "19ab7813",
   "metadata": {},
   "outputs": [],
   "source": [
    "gcviHarmonicCoefficients = harmonics.select([\n",
    "    '3_GCVI_constant',\n",
    "    '3_GCVI_cos',\n",
    "    '3_GCVI_sin',\n",
    "    '3_GCVI_cos2',\n",
    "    '3_GCVI_sin2'\n",
    "]).divide(10000)\n",
    "\n",
    "def func_pkm(image):\n",
    "    return image.addBands(image.select(independents) \\\n",
    "            .multiply(gcviHarmonicCoefficients) \\\n",
    "            .reduce('sum') \\\n",
    "            .rename('fitted'))\n",
    "fittedHarmonic = landsatPlus.map(func_pkm)"
   ]
  },
  {
   "attachments": {},
   "cell_type": "markdown",
   "id": "7ff6f54b",
   "metadata": {},
   "source": [
    "### 3.5 图表可视化"
   ]
  },
  {
   "cell_type": "code",
   "execution_count": 24,
   "id": "fa1dfb2a",
   "metadata": {},
   "outputs": [],
   "source": [
    "# 提取每张影像该点的 GCVI 值及其拟合值\n",
    "# 并返回一个包含 GCVI 及其拟合值和时间属性的Feature\n",
    "def get_gcvi_fitted(image):\n",
    "    # 获取某一点上的 GCVI 值\n",
    "    gcvi = image.select('GCVI').reduceRegion(ee.Reducer.mean(), point, scale=30)\n",
    "    # 获取某一点上的 GCVI 拟合值\n",
    "    gcvi_fitted = image.select('fitted').reduceRegion(ee.Reducer.mean(), point, scale=30)\n",
    "    # 获取影像的日期，使用ee.Date()方法，并格式化为YYYY-MM-dd\n",
    "    date = ee.Date(image.get('system:time_start')).format('YYYY-MM-dd')\n",
    "    # 返回一个包含 GCVI 值和时间属性的要素\n",
    "    return ee.Feature(point, {'date': date, 'gcvi': gcvi, 'gcvi_fitted': gcvi_fitted})\n",
    "\n",
    "# 使用ee.ImageCollection.map()方法来对影像集合中每个影像应用上面定义的函数\n",
    "# map()函数返回的是一个ee.ComputedObject类型的对象\n",
    "# 需要将结果转化为ee.FeatureCollection\n",
    "gcvi_fitted_val = ee.FeatureCollection(fittedHarmonic.map(get_gcvi_fitted))"
   ]
  },
  {
   "cell_type": "code",
   "execution_count": 25,
   "id": "d11d57b3",
   "metadata": {},
   "outputs": [],
   "source": [
    "df = geemap.ee_to_pandas(gcvi_fitted_val)\n",
    "df['date'] = pd.to_datetime(df['date'], format='%Y-%m-%d')\n",
    "# 使用apply()方法来获取每个字典中的GCVI值\n",
    "df['gcvi'] = df['gcvi'].apply(lambda x: x['GCVI'])\n",
    "df['gcvi_fitted'] = df['gcvi_fitted'].apply(lambda x: x['fitted'])\n",
    "GCVI_fitted_output = './output/gcvi_fitted_chart.xlsx'\n",
    "df.to_excel(GCVI_fitted_output, index=False)"
   ]
  },
  {
   "cell_type": "code",
   "execution_count": 26,
   "id": "5b9b2db5",
   "metadata": {},
   "outputs": [
    {
     "data": {
      "image/png": "[encoded data removed]",
      "text/plain": [
       "<Figure size 1000x300 with 1 Axes>"
      ]
     },
     "metadata": {},
     "output_type": "display_data"
    }
   ],
   "source": [
    "GCVI_fitted_df = pd.read_excel(GCVI_fitted_output)\n",
    "\n",
    "plt.figure(figsize=(10, 3))\n",
    "GCVI_fitted_df['date'] = GCVI_fitted_df['date'].dt.strftime('%Y-%m-%d')\n",
    "\n",
    "# 删除缺失值一行\n",
    "GCVI_fitted_df = GCVI_fitted_df.dropna()\n",
    "\n",
    "# 为了让折线图在空值处断开，需要将空值替换为np.nan\n",
    "# GCVI_fitted_df['gcvi'] = GCVI_fitted_df['gcvi'].replace('', np.nan)\n",
    "# GCVI_fitted_df['gcvi_fitted'] = GCVI_fitted_df['gcvi_fitted'].replace('', np.nan)\n",
    "\n",
    "\n",
    "# 绘制折线图，使用日期作为x轴，GCVI值作为y轴\n",
    "plt.plot(GCVI_fitted_df['date'], GCVI_fitted_df['gcvi'], 'b-', marker='o', linewidth=1.0)\n",
    "plt.plot(GCVI_fitted_df['date'], GCVI_fitted_df['gcvi_fitted'], 'r-', marker='o', linewidth=1.0)\n",
    "\n",
    "plt.ylabel('GCVI', labelpad=10)\n",
    "# 限制x轴显示\n",
    "plt.xticks(np.arange(0, len(GCVI_fitted_df), 4))\n",
    "plt.title('Landsat GCVI time series and fitted harmonic regression values', pad=10)\n",
    "# 网格线\n",
    "plt.grid(True)\n",
    "# 去除绘制边框\n",
    "plt.box(False)\n",
    "# 通过修改x轴样式来实现底部边框效果\n",
    "plt.axhline(0, color='black', linewidth=1.0)\n",
    "# 将x轴和y轴修改样式，不显示刻度位置，只显示刻度数字\n",
    "plt.tick_params(axis='both', length=0)\n",
    "# 添加折线图例\n",
    "plt.legend(['GCVI', 'GCVI_fitted'])\n",
    "\n",
    "# 保存图形为一个png文件，分辨率为300dpi，要放在图像绘制之前\n",
    "out_file = \"./output/Landsat_GCVI_fitted_time_series.png\"\n",
    "plt.savefig(out_file, dpi=300)\n",
    "plt.show()"
   ]
  },
  {
   "cell_type": "markdown",
   "id": "78501ee3",
   "metadata": {},
   "source": [
    "### 3.6 在地图上可视化调和系数"
   ]
  },
  {
   "cell_type": "code",
   "execution_count": 27,
   "id": "feec4d55",
   "metadata": {},
   "outputs": [
    {
     "data": {
      "application/vnd.jupyter.widget-view+json": {
       "model_id": "10246c2e129046768824f3405aca84b2",
       "version_major": 2,
       "version_minor": 0
      },
      "text/plain": [
       "Map(center=[40.51926422440161, -88.86431136556666], controls=(WidgetControl(options=['position', 'transparent_…"
      ]
     },
     "metadata": {},
     "output_type": "display_data"
    }
   ],
   "source": [
    "# 地图可视化 GCVI \n",
    "visImage = ee.Image.cat([\n",
    "   harmonics.select('3_GCVI_cos').divide(7000).add(0.6),\n",
    "   harmonics.select('3_GCVI_sin').divide(7000).add(0.5),\n",
    "   harmonics.select('3_GCVI_constant').divide(7000).subtract(0.6)\n",
    "])\n",
    "\n",
    "Map.addLayer(visImage,{\n",
    "   'min': -0.5,\n",
    "   'max': 0.5\n",
    "}, '调和系数假彩色图像')\n",
    "Map"
   ]
  },
  {
   "cell_type": "markdown",
   "id": "39ca0b62",
   "metadata": {},
   "source": [
    "## 4 随机森林分类农作物类型"
   ]
  },
  {
   "cell_type": "markdown",
   "id": "7e867923",
   "metadata": {},
   "source": [
    "### 4.1 定义随机森林分类器"
   ]
  },
  {
   "cell_type": "code",
   "execution_count": 28,
   "id": "0b7e9dba",
   "metadata": {},
   "outputs": [],
   "source": [
    "rf = ee.Classifier.smileRandomForest(**{\n",
    "   'numberOfTrees': 50,\n",
    "   'minLeafPopulation': 10,\n",
    "})"
   ]
  },
  {
   "cell_type": "markdown",
   "id": "28ad538c",
   "metadata": {},
   "source": [
    "### 4.2 将CDL转换为3类频带并加入谐波"
   ]
  },
  {
   "cell_type": "code",
   "execution_count": 29,
   "id": "f3305391",
   "metadata": {},
   "outputs": [],
   "source": [
    "harmonicsPlus = ee.Image.cat([harmonics, cdl])\n",
    "\n",
    "cornSoyOther = harmonicsPlus.select('cropland').eq(1) \\\n",
    "\t\t.add(harmonicsPlus.select('cropland').eq(5).multiply(2))\n",
    "dataset = ee.Image.cat([harmonicsPlus.select(nowBands), cornSoyOther])"
   ]
  },
  {
   "cell_type": "markdown",
   "id": "4433402f",
   "metadata": {},
   "source": [
    "### 4.3 采样训练点并训练模型"
   ]
  },
  {
   "cell_type": "code",
   "execution_count": 30,
   "id": "b7913e85",
   "metadata": {},
   "outputs": [
    {
     "name": "stdout",
     "output_type": "stream",
     "text": [
      "训练集总体精度:  0.9\n",
      "训练集误差矩阵: \n"
     ]
    },
    {
     "data": {
      "text/html": [
       "<div><style>:root {\n",
       "  --font-color-primary: var(--jp-content-font-color0, rgba(0, 0, 0, 1));\n",
       "  --font-color-secondary: var(--jp-content-font-color2, rgba(0, 0, 0, 0.6));\n",
       "  --font-color-accent: rgba(123, 31, 162, 1);\n",
       "  --border-color: var(--jp-border-color2, #e0e0e0);\n",
       "  --background-color: var(--jp-layout-color0, white);\n",
       "  --background-color-row-even: var(--jp-layout-color1, white);\n",
       "  --background-color-row-odd: var(--jp-layout-color2, #eeeeee);\n",
       "}\n",
       "\n",
       "html[theme=\"dark\"],\n",
       "body[data-theme=\"dark\"],\n",
       "body.vscode-dark {\n",
       "  --font-color-primary: rgba(255, 255, 255, 1);\n",
       "  --font-color-secondary: rgba(255, 255, 255, 0.6);\n",
       "  --font-color-accent: rgb(173, 132, 190);\n",
       "  --border-color: #2e2e2e;\n",
       "  --background-color: #111111;\n",
       "  --background-color-row-even: #111111;\n",
       "  --background-color-row-odd: #313131;\n",
       "}\n",
       "\n",
       ".ee {\n",
       "  padding: 1em;\n",
       "  line-height: 1.5em;\n",
       "  min-width: 300px;\n",
       "  max-width: 1200px;\n",
       "  overflow-y: scroll;\n",
       "  max-height: 600px;\n",
       "  border: 1px solid var(--border-color);\n",
       "  font-family: monospace;\n",
       "}\n",
       "\n",
       ".ee li {\n",
       "  list-style-type: none;\n",
       "}\n",
       "\n",
       ".ee ul {\n",
       "  padding-left: 1.5em !important;\n",
       "  margin: 0;\n",
       "}\n",
       "\n",
       ".ee > ul {\n",
       "  padding-left: 0 !important;\n",
       "}\n",
       "\n",
       ".ee-open,\n",
       ".ee-shut {\n",
       "  color: var(--font-color-secondary);\n",
       "  cursor: pointer;\n",
       "  margin: 0;\n",
       "}\n",
       "\n",
       ".ee-open:hover,\n",
       ".ee-shut:hover {\n",
       "  color: var(--font-color-primary);\n",
       "}\n",
       "\n",
       ".ee-k {\n",
       "  color: var(--font-color-accent);\n",
       "  margin-right: 6px;\n",
       "}\n",
       "\n",
       ".ee-v {\n",
       "  color: var(--font-color-primary);\n",
       "}\n",
       "\n",
       ".ee-toggle {\n",
       "  display: none;\n",
       "}\n",
       "\n",
       ".ee-shut + ul {\n",
       "  display: none;\n",
       "}\n",
       "\n",
       ".ee-open + ul {\n",
       "  display: block;\n",
       "}\n",
       "\n",
       ".ee-shut::before {\n",
       "  display: inline-block;\n",
       "  content: \"▼\";\n",
       "  margin-right: 6px;\n",
       "  transform: rotate(-90deg);\n",
       "  transition: transform 0.2s;\n",
       "}\n",
       "\n",
       ".ee-open::before {\n",
       "  transform: rotate(0deg);\n",
       "  display: inline-block;\n",
       "  content: \"▼\";\n",
       "  margin-right: 6px;\n",
       "  transition: transform 0.2s;\n",
       "}\n",
       "</style><div class='ee'><ul><li><label class='ee-shut'>[[29, 0, 0], [3, 33, 0], [3, 4, 28]]<input type='checkbox' class='ee-toggle'></label><ul><li><label class='ee-shut'>0: [29, 0, 0]<input type='checkbox' class='ee-toggle'></label><ul><li><span class='ee-k'>0:</span><span class='ee-v'>29</span></li><li><span class='ee-k'>1:</span><span class='ee-v'>0</span></li><li><span class='ee-k'>2:</span><span class='ee-v'>0</span></li></ul></li><li><label class='ee-shut'>1: [3, 33, 0]<input type='checkbox' class='ee-toggle'></label><ul><li><span class='ee-k'>0:</span><span class='ee-v'>3</span></li><li><span class='ee-k'>1:</span><span class='ee-v'>33</span></li><li><span class='ee-k'>2:</span><span class='ee-v'>0</span></li></ul></li><li><label class='ee-shut'>2: [3, 4, 28]<input type='checkbox' class='ee-toggle'></label><ul><li><span class='ee-k'>0:</span><span class='ee-v'>3</span></li><li><span class='ee-k'>1:</span><span class='ee-v'>4</span></li><li><span class='ee-k'>2:</span><span class='ee-v'>28</span></li></ul></li></ul></li></ul></div><script>function toggleHeader() {\n",
       "    const parent = this.parentElement;\n",
       "    parent.className = parent.className === \"ee-open\" ? \"ee-shut\" : \"ee-open\";\n",
       "}\n",
       "\n",
       "for (let c of document.getElementsByClassName(\"ee-toggle\")) {\n",
       "    c.onclick = toggleHeader;\n",
       "}</script></div>"
      ],
      "text/plain": [
       "<ee.ConfusionMatrix at 0x25c95d9e370>"
      ]
     },
     "execution_count": 30,
     "metadata": {},
     "output_type": "execute_result"
    }
   ],
   "source": [
    "train_points = dataset.sample(region, 30, None, None, 100, 0)\n",
    "model = rf.train(train_points, 'cropland', nowBands)\n",
    "# 训练集精度及其误差矩阵\n",
    "trainCM = model.confusionMatrix()\n",
    "print('训练集总体精度: ', trainCM.accuracy().getInfo())\n",
    "print('训练集误差矩阵: ')\n",
    "trainCM"
   ]
  },
  {
   "cell_type": "markdown",
   "id": "ebad97d2",
   "metadata": {},
   "source": [
    "### 4.4 采样测试点并对其应用模型"
   ]
  },
  {
   "cell_type": "code",
   "execution_count": 31,
   "id": "e3360301",
   "metadata": {},
   "outputs": [
    {
     "name": "stdout",
     "output_type": "stream",
     "text": [
      "测试集总体精度:  0.76\n",
      "测试集误差矩阵: \n"
     ]
    },
    {
     "data": {
      "text/html": [
       "<div><style>:root {\n",
       "  --font-color-primary: var(--jp-content-font-color0, rgba(0, 0, 0, 1));\n",
       "  --font-color-secondary: var(--jp-content-font-color2, rgba(0, 0, 0, 0.6));\n",
       "  --font-color-accent: rgba(123, 31, 162, 1);\n",
       "  --border-color: var(--jp-border-color2, #e0e0e0);\n",
       "  --background-color: var(--jp-layout-color0, white);\n",
       "  --background-color-row-even: var(--jp-layout-color1, white);\n",
       "  --background-color-row-odd: var(--jp-layout-color2, #eeeeee);\n",
       "}\n",
       "\n",
       "html[theme=\"dark\"],\n",
       "body[data-theme=\"dark\"],\n",
       "body.vscode-dark {\n",
       "  --font-color-primary: rgba(255, 255, 255, 1);\n",
       "  --font-color-secondary: rgba(255, 255, 255, 0.6);\n",
       "  --font-color-accent: rgb(173, 132, 190);\n",
       "  --border-color: #2e2e2e;\n",
       "  --background-color: #111111;\n",
       "  --background-color-row-even: #111111;\n",
       "  --background-color-row-odd: #313131;\n",
       "}\n",
       "\n",
       ".ee {\n",
       "  padding: 1em;\n",
       "  line-height: 1.5em;\n",
       "  min-width: 300px;\n",
       "  max-width: 1200px;\n",
       "  overflow-y: scroll;\n",
       "  max-height: 600px;\n",
       "  border: 1px solid var(--border-color);\n",
       "  font-family: monospace;\n",
       "}\n",
       "\n",
       ".ee li {\n",
       "  list-style-type: none;\n",
       "}\n",
       "\n",
       ".ee ul {\n",
       "  padding-left: 1.5em !important;\n",
       "  margin: 0;\n",
       "}\n",
       "\n",
       ".ee > ul {\n",
       "  padding-left: 0 !important;\n",
       "}\n",
       "\n",
       ".ee-open,\n",
       ".ee-shut {\n",
       "  color: var(--font-color-secondary);\n",
       "  cursor: pointer;\n",
       "  margin: 0;\n",
       "}\n",
       "\n",
       ".ee-open:hover,\n",
       ".ee-shut:hover {\n",
       "  color: var(--font-color-primary);\n",
       "}\n",
       "\n",
       ".ee-k {\n",
       "  color: var(--font-color-accent);\n",
       "  margin-right: 6px;\n",
       "}\n",
       "\n",
       ".ee-v {\n",
       "  color: var(--font-color-primary);\n",
       "}\n",
       "\n",
       ".ee-toggle {\n",
       "  display: none;\n",
       "}\n",
       "\n",
       ".ee-shut + ul {\n",
       "  display: none;\n",
       "}\n",
       "\n",
       ".ee-open + ul {\n",
       "  display: block;\n",
       "}\n",
       "\n",
       ".ee-shut::before {\n",
       "  display: inline-block;\n",
       "  content: \"▼\";\n",
       "  margin-right: 6px;\n",
       "  transform: rotate(-90deg);\n",
       "  transition: transform 0.2s;\n",
       "}\n",
       "\n",
       ".ee-open::before {\n",
       "  transform: rotate(0deg);\n",
       "  display: inline-block;\n",
       "  content: \"▼\";\n",
       "  margin-right: 6px;\n",
       "  transition: transform 0.2s;\n",
       "}\n",
       "</style><div class='ee'><ul><li><label class='ee-shut'>[[12, 1, 0], [1, 13, 4], [3, 3, 13]]<input type='checkbox' class='ee-toggle'></label><ul><li><label class='ee-shut'>0: [12, 1, 0]<input type='checkbox' class='ee-toggle'></label><ul><li><span class='ee-k'>0:</span><span class='ee-v'>12</span></li><li><span class='ee-k'>1:</span><span class='ee-v'>1</span></li><li><span class='ee-k'>2:</span><span class='ee-v'>0</span></li></ul></li><li><label class='ee-shut'>1: [1, 13, 4]<input type='checkbox' class='ee-toggle'></label><ul><li><span class='ee-k'>0:</span><span class='ee-v'>1</span></li><li><span class='ee-k'>1:</span><span class='ee-v'>13</span></li><li><span class='ee-k'>2:</span><span class='ee-v'>4</span></li></ul></li><li><label class='ee-shut'>2: [3, 3, 13]<input type='checkbox' class='ee-toggle'></label><ul><li><span class='ee-k'>0:</span><span class='ee-v'>3</span></li><li><span class='ee-k'>1:</span><span class='ee-v'>3</span></li><li><span class='ee-k'>2:</span><span class='ee-v'>13</span></li></ul></li></ul></li></ul></div><script>function toggleHeader() {\n",
       "    const parent = this.parentElement;\n",
       "    parent.className = parent.className === \"ee-open\" ? \"ee-shut\" : \"ee-open\";\n",
       "}\n",
       "\n",
       "for (let c of document.getElementsByClassName(\"ee-toggle\")) {\n",
       "    c.onclick = toggleHeader;\n",
       "}</script></div>"
      ],
      "text/plain": [
       "<ee.ConfusionMatrix at 0x25c95d1ccd0>"
      ]
     },
     "execution_count": 31,
     "metadata": {},
     "output_type": "execute_result"
    }
   ],
   "source": [
    "test_points = dataset.sample(region, 30, None, None, 50, 1)\n",
    "tested = test_points.classify(model)\n",
    "# 在测试集上计算混淆矩阵和准确率\n",
    "testAccuracy = tested.errorMatrix('cropland', 'classification')\n",
    "print('测试集总体精度: ', testAccuracy.accuracy().getInfo())\n",
    "print('测试集误差矩阵: ')\n",
    "testAccuracy"
   ]
  },
  {
   "cell_type": "markdown",
   "id": "b46031ea",
   "metadata": {},
   "source": [
    "### 4.5 将模型应用于整个研究区域"
   ]
  },
  {
   "cell_type": "code",
   "execution_count": 32,
   "id": "4e4dc3b3",
   "metadata": {},
   "outputs": [
    {
     "data": {
      "application/vnd.jupyter.widget-view+json": {
       "model_id": "10246c2e129046768824f3405aca84b2",
       "version_major": 2,
       "version_minor": 0
      },
      "text/plain": [
       "Map(center=[40.51926422440161, -88.86431136556666], controls=(WidgetControl(options=['position', 'transparent_…"
      ]
     },
     "metadata": {},
     "output_type": "display_data"
    }
   ],
   "source": [
    "regionClassified = harmonicsPlus.select(nowBands).classify(model)\n",
    "predPalette = ['gray', 'yellow', 'green']\n",
    "Map.addLayer(regionClassified, {\n",
    "   'min': 0,\n",
    "   'max': 2,\n",
    "   'palette': predPalette\n",
    "}, '分类器预测分类')\n",
    "Map"
   ]
  },
  {
   "cell_type": "markdown",
   "id": "70e48e31",
   "metadata": {},
   "source": [
    "### 4.6 预测结果对比"
   ]
  },
  {
   "cell_type": "code",
   "execution_count": 33,
   "id": "a0de7088",
   "metadata": {},
   "outputs": [
    {
     "data": {
      "application/vnd.jupyter.widget-view+json": {
       "model_id": "10246c2e129046768824f3405aca84b2",
       "version_major": 2,
       "version_minor": 0
      },
      "text/plain": [
       "Map(center=[40.51926422440161, -88.86431136556666], controls=(WidgetControl(options=['position', 'transparent_…"
      ]
     },
     "metadata": {},
     "output_type": "display_data"
    }
   ],
   "source": [
    "Map.addLayer(regionClassified.eq(cornSoyOther), {\n",
    "   'min': 0,\n",
    "   'max': 1\n",
    "}, '分类一致性对比')\n",
    "Map"
   ]
  },
  {
   "cell_type": "code",
   "execution_count": null,
   "id": "02c2cf9d",
   "metadata": {},
   "outputs": [],
   "source": []
  }
 ],
 "metadata": {
  "kernelspec": {
   "display_name": "Python 3 (ipykernel)",
   "language": "python",
   "name": "python3"
  },
  "language_info": {
   "codemirror_mode": {
    "name": "ipython",
    "version": 3
   },
   "file_extension": ".py",
   "mimetype": "text/x-python",
   "name": "python",
   "nbconvert_exporter": "python",
   "pygments_lexer": "ipython3",
   "version": "3.9.16"
  }
 },
 "nbformat": 4,
 "nbformat_minor": 5
}
