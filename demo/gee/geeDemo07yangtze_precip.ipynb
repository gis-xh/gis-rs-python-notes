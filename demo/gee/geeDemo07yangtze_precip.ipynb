{
 "cells": [
  {
   "attachments": {},
   "cell_type": "markdown",
   "id": "af0a6ae3-e4ae-4ce3-82ad-e9e7880806bb",
   "metadata": {},
   "source": [
    "# GEE 教程（七）：长江流域降雨量可视化分析"
   ]
  },
  {
   "cell_type": "code",
   "execution_count": 1,
   "id": "dca38239-57b1-4603-9351-c5ad6e4ab39a",
   "metadata": {},
   "outputs": [],
   "source": [
    "import ee\n",
    "import geemap\n",
    "ee.Initialize()\n",
    "geemap.set_proxy(port=\"7890\")"
   ]
  },
  {
   "cell_type": "code",
   "execution_count": 2,
   "id": "105741ee-3496-4517-9e2d-939ebd2c42ce",
   "metadata": {},
   "outputs": [],
   "source": [
    "import numpy as np\n",
    "import pandas as pd\n",
    "import matplotlib.pyplot as plt"
   ]
  },
  {
   "attachments": {},
   "cell_type": "markdown",
   "id": "7d918ea5-1de0-4b32-ad6f-adaf5a617318",
   "metadata": {},
   "source": [
    "## 1 加载相关数据"
   ]
  },
  {
   "attachments": {},
   "cell_type": "markdown",
   "id": "074cdc2b-9c9a-4d14-adb6-a536b9fe21f7",
   "metadata": {},
   "source": [
    "### 1.1 加载本地的长江流域shp"
   ]
  },
  {
   "cell_type": "code",
   "execution_count": 3,
   "id": "93801c7b-ed68-430c-a368-ce1d5774b307",
   "metadata": {},
   "outputs": [],
   "source": [
    "yangtzeBasin = geemap.shp_to_ee('E:/researchData/Yangtze/YangtzeBasin.shp')"
   ]
  },
  {
   "cell_type": "code",
   "execution_count": 4,
   "id": "4efaa7cc-0455-427f-b3b1-db6e640009a1",
   "metadata": {},
   "outputs": [
    {
     "data": {
      "application/vnd.jupyter.widget-view+json": {
       "model_id": "3866d6e30b68401286d31a0a0f116acb",
       "version_major": 2,
       "version_minor": 0
      },
      "text/plain": [
       "Map(center=[30.23479495214304, 107.24266148024736], controls=(WidgetControl(options=['position', 'transparent_…"
      ]
     },
     "metadata": {},
     "output_type": "display_data"
    }
   ],
   "source": [
    "Map = geemap.Map()\n",
    "Map.centerObject(yangtzeBasin, 5)\n",
    "Map.addLayer(yangtzeBasin, {}, '长江流域')\n",
    "Map"
   ]
  },
  {
   "attachments": {},
   "cell_type": "markdown",
   "id": "b7e933d0-3611-4257-8579-99d46b3d4ad5",
   "metadata": {},
   "source": [
    "### 1.2 设置起止时间"
   ]
  },
  {
   "cell_type": "code",
   "execution_count": 5,
   "id": "49bdafcc-2f95-4812-94d4-d6fb501a1eb8",
   "metadata": {},
   "outputs": [],
   "source": [
    "startYear = 2013\n",
    "endYear = 2022\n",
    "# 为开始年份和结束年份创建两个日期对象\n",
    "startDate = ee.Date.fromYMD(startYear, 1, 1)\n",
    "endDate = ee.Date.fromYMD(endYear + 1, 1, 1)\n",
    "# 创建一个年份列表\n",
    "years = ee.List.sequence(startYear, endYear)\n",
    "# 创建一个月份列表\n",
    "months = ee.List.sequence(1, 12)"
   ]
  },
  {
   "attachments": {},
   "cell_type": "markdown",
   "id": "e79451e2-9206-465c-af6e-fb344b9b5537",
   "metadata": {},
   "source": [
    "### 1.3 加载 CHIRPS 数据集"
   ]
  },
  {
   "cell_type": "code",
   "execution_count": 6,
   "id": "1a321d7b-eb40-421a-990f-96d15fd02e82",
   "metadata": {},
   "outputs": [],
   "source": [
    "CHIRPS = ee.ImageCollection('UCSB-CHG/CHIRPS/PENTAD')\n",
    "CHIRPS = CHIRPS.filterDate(startDate, endDate)"
   ]
  },
  {
   "attachments": {},
   "cell_type": "markdown",
   "id": "23157a2b-fddb-457c-be77-7385ee9c7de9",
   "metadata": {
    "tags": []
   },
   "source": [
    "## 2 计算每月总降雨量"
   ]
  },
  {
   "cell_type": "code",
   "execution_count": 7,
   "id": "70eb60c7-4760-4851-9d9b-bf2f7907e731",
   "metadata": {},
   "outputs": [],
   "source": [
    "# 该函数应用一个嵌套循环，首先在相关年份进行映射，然后在相关月份进行映射\n",
    "# 返回值是一个包含月度降雨量(P)波段图像\n",
    "def caculate_months(y):\n",
    "    def caculate_all(m):\n",
    "        # 筛选出每月降雨量并求出当月总和\n",
    "        P = CHIRPS.filter(ee.Filter.eq('year', y)) \\\n",
    "                .filter(ee.Filter.eq('month', m)) \\\n",
    "                .sum()\n",
    "        # 返回一个图像，只含有一个降雨量波段\n",
    "        return P.set('year', y) \\\n",
    "                .set('month', m) \\\n",
    "                .set('date', ee.Date.fromYMD(y, m, 1))\n",
    "    return months.map(caculate_all)\n",
    "# flatten() 将特征的特征集合转换为单个特征集合\n",
    "# 再将结果转化为 ImageCollection\n",
    "monthlyPrecip = ee.ImageCollection.fromImages(\n",
    "    years.map(caculate_months).flatten()\n",
    ")"
   ]
  },
  {
   "attachments": {},
   "cell_type": "markdown",
   "id": "66a897e4-504a-46be-9246-e3dabbf16e06",
   "metadata": {
    "tags": []
   },
   "source": [
    "## 3 结果可视化"
   ]
  },
  {
   "attachments": {},
   "cell_type": "markdown",
   "id": "ef7cbfbc-fee8-4eb0-a7a5-ec17b1c4aab5",
   "metadata": {},
   "source": [
    "### 3.1 月均降水量数据地图可视化"
   ]
  },
  {
   "cell_type": "code",
   "execution_count": 8,
   "id": "9f35125e-6427-42ef-8635-4347d35b1951",
   "metadata": {},
   "outputs": [
    {
     "data": {
      "application/vnd.jupyter.widget-view+json": {
       "model_id": "3866d6e30b68401286d31a0a0f116acb",
       "version_major": 2,
       "version_minor": 0
      },
      "text/plain": [
       "Map(center=[30.23479495214304, 107.24266148024736], controls=(WidgetControl(options=['position', 'transparent_…"
      ]
     },
     "metadata": {},
     "output_type": "display_data"
    }
   ],
   "source": [
    "# 添加长江流域的月均值图层\n",
    "precipVis = {\n",
    "  'min': 0,\n",
    "  'max': 250,\n",
    "  'palette': ['white', 'blue', 'darkblue', 'red', 'purple']\n",
    "}\n",
    "Map.addLayer(monthlyPrecip.mean().clip(yangtzeBasin), precipVis, '月均降水')\n",
    "Map"
   ]
  },
  {
   "attachments": {},
   "cell_type": "markdown",
   "id": "d5c6a66f-839d-49a9-8c02-626181966f49",
   "metadata": {},
   "source": [
    "### 3.2 将降雨量数据提取成 excel 表格"
   ]
  },
  {
   "cell_type": "code",
   "execution_count": 9,
   "id": "447b6f95-e5e9-483e-af7a-e0cc45b89c2a",
   "metadata": {},
   "outputs": [],
   "source": [
    "region = yangtzeBasin.geometry()"
   ]
  },
  {
   "cell_type": "code",
   "execution_count": 10,
   "id": "fa56e24b-069e-4ec8-977b-01d037531173",
   "metadata": {},
   "outputs": [],
   "source": [
    "# 定义一个函数，用于对每个影像的降雨量波段数值求均值，\n",
    "# 并返回一个包含降雨量和时间属性的Feature\n",
    "def get_precip_mean_date(image):\n",
    "    # 对降雨量波段数值求均值，使用ee.Reducer.mean()方法，并指定区域和缩放比例\n",
    "    mean = image.reduceRegion(ee.Reducer.mean(), region, 5000).get('precipitation')\n",
    "    # 获取影像的日期，使用ee.Date()方法，并格式化为YYYY-MM-dd\n",
    "    date = ee.Date(image.get('date')).format('YYYY-MM-dd')\n",
    "    # 返回一个包含降雨量和时间的要素，使用ee.Feature()方法，并设置几何和属性\n",
    "    return ee.Feature(None, {'date': date, 'precip_mean': mean})\n",
    "\n",
    "# 使用ee.ImageCollection.map()方法来对影像集合中每个影像应用上面定义的函数\n",
    "# map()函数返回的是一个ee.ComputedObject类型的对象\n",
    "# 需要将结果转化为ee.FeatureCollection，\n",
    "# 才能利用geemap包转化成DataFrame格式\n",
    "precip_mean = ee.FeatureCollection(monthlyPrecip.map(get_precip_mean_date))"
   ]
  },
  {
   "cell_type": "code",
   "execution_count": 11,
   "id": "36d36f9e-7882-4857-86b8-d844a1c0b3ba",
   "metadata": {},
   "outputs": [
    {
     "data": {
      "text/html": [
       "<div>\n",
       "<style scoped>\n",
       "    .dataframe tbody tr th:only-of-type {\n",
       "        vertical-align: middle;\n",
       "    }\n",
       "\n",
       "    .dataframe tbody tr th {\n",
       "        vertical-align: top;\n",
       "    }\n",
       "\n",
       "    .dataframe thead th {\n",
       "        text-align: right;\n",
       "    }\n",
       "</style>\n",
       "<table border=\"1\" class=\"dataframe\">\n",
       "  <thead>\n",
       "    <tr style=\"text-align: right;\">\n",
       "      <th></th>\n",
       "      <th>date</th>\n",
       "      <th>precip_mean</th>\n",
       "    </tr>\n",
       "  </thead>\n",
       "  <tbody>\n",
       "    <tr>\n",
       "      <th>0</th>\n",
       "      <td>2013-01-01</td>\n",
       "      <td>17.657346</td>\n",
       "    </tr>\n",
       "    <tr>\n",
       "      <th>1</th>\n",
       "      <td>2013-02-01</td>\n",
       "      <td>34.355689</td>\n",
       "    </tr>\n",
       "    <tr>\n",
       "      <th>2</th>\n",
       "      <td>2013-03-01</td>\n",
       "      <td>81.704462</td>\n",
       "    </tr>\n",
       "    <tr>\n",
       "      <th>3</th>\n",
       "      <td>2013-04-01</td>\n",
       "      <td>85.885359</td>\n",
       "    </tr>\n",
       "    <tr>\n",
       "      <th>4</th>\n",
       "      <td>2013-05-01</td>\n",
       "      <td>154.191976</td>\n",
       "    </tr>\n",
       "    <tr>\n",
       "      <th>...</th>\n",
       "      <td>...</td>\n",
       "      <td>...</td>\n",
       "    </tr>\n",
       "    <tr>\n",
       "      <th>115</th>\n",
       "      <td>2022-08-01</td>\n",
       "      <td>82.300766</td>\n",
       "    </tr>\n",
       "    <tr>\n",
       "      <th>116</th>\n",
       "      <td>2022-09-01</td>\n",
       "      <td>82.628146</td>\n",
       "    </tr>\n",
       "    <tr>\n",
       "      <th>117</th>\n",
       "      <td>2022-10-01</td>\n",
       "      <td>61.459835</td>\n",
       "    </tr>\n",
       "    <tr>\n",
       "      <th>118</th>\n",
       "      <td>2022-11-01</td>\n",
       "      <td>42.323558</td>\n",
       "    </tr>\n",
       "    <tr>\n",
       "      <th>119</th>\n",
       "      <td>2022-12-01</td>\n",
       "      <td>14.116002</td>\n",
       "    </tr>\n",
       "  </tbody>\n",
       "</table>\n",
       "<p>120 rows × 2 columns</p>\n",
       "</div>"
      ],
      "text/plain": [
       "           date  precip_mean\n",
       "0    2013-01-01    17.657346\n",
       "1    2013-02-01    34.355689\n",
       "2    2013-03-01    81.704462\n",
       "3    2013-04-01    85.885359\n",
       "4    2013-05-01   154.191976\n",
       "..          ...          ...\n",
       "115  2022-08-01    82.300766\n",
       "116  2022-09-01    82.628146\n",
       "117  2022-10-01    61.459835\n",
       "118  2022-11-01    42.323558\n",
       "119  2022-12-01    14.116002\n",
       "\n",
       "[120 rows x 2 columns]"
      ]
     },
     "execution_count": 11,
     "metadata": {},
     "output_type": "execute_result"
    }
   ],
   "source": [
    "# 将数据转化为 DataFrame 格式\n",
    "df = geemap.ee_to_pandas(precip_mean)\n",
    "df"
   ]
  },
  {
   "cell_type": "code",
   "execution_count": 12,
   "id": "6dcb3b85-a99c-4732-b7de-34309b043db7",
   "metadata": {},
   "outputs": [],
   "source": [
    "df['date'] = pd.to_datetime(df['date'], format='%Y-%m-%d')\n",
    "outputFile = './output/yangtze_precip_chart_monthly.xlsx'\n",
    "df.to_excel(outputFile, index=False)"
   ]
  },
  {
   "attachments": {},
   "cell_type": "markdown",
   "id": "41027e07-c34f-47eb-bab1-cbf7c16b6dc8",
   "metadata": {},
   "source": [
    "### 3.3 绘制降雨量直方图"
   ]
  },
  {
   "cell_type": "code",
   "execution_count": 16,
   "id": "8759ff39-b79d-4fdd-b1cf-88b938ef7437",
   "metadata": {},
   "outputs": [
    {
     "data": {
      "image/png": "[encoded data removed]",
      "text/plain": [
       "<Figure size 1200x600 with 1 Axes>"
      ]
     },
     "metadata": {},
     "output_type": "display_data"
    }
   ],
   "source": [
    "df = pd.read_excel(outputFile)\n",
    "# 设置图形的大小\n",
    "plt.figure(figsize=(12, 6))\n",
    "\n",
    "# 将date读取为只显示年份-月份的形式\n",
    "df['date'] = df['date'].dt.strftime('%Y-%m')\n",
    "\n",
    "# 绘制柱状图，使用日期作为x轴，平均降水量作为y轴\n",
    "plt.bar(df['date'], df['precip_mean'])\n",
    "\n",
    "# 设置x轴的刻度，每隔1年(12个日期)显示一个标签\n",
    "plt.xticks(np.arange(0, len(df), 12))\n",
    "\n",
    "# 设置x轴和y轴的标签\n",
    "plt.xlabel('Time')\n",
    "plt.ylabel('Precipitation (mm)')\n",
    "\n",
    "# 设置图形的标题\n",
    "plt.title('Yangtze River Basin monthly precipitation (2013~2022)')\n",
    "\n",
    "# 显示图形\n",
    "plt.show()"
   ]
  },
  {
   "cell_type": "code",
   "execution_count": null,
   "id": "0de16960-a21a-4d49-9cc5-55ef0c91b1b9",
   "metadata": {},
   "outputs": [],
   "source": []
  }
 ],
 "metadata": {
  "kernelspec": {
   "display_name": "Python 3 (ipykernel)",
   "language": "python",
   "name": "python3"
  },
  "language_info": {
   "codemirror_mode": {
    "name": "ipython",
    "version": 3
   },
   "file_extension": ".py",
   "mimetype": "text/x-python",
   "name": "python",
   "nbconvert_exporter": "python",
   "pygments_lexer": "ipython3",
   "version": "3.9.16"
  },
  "toc-autonumbering": false,
  "toc-showcode": false,
  "toc-showmarkdowntxt": false,
  "toc-showtags": false
 },
 "nbformat": 4,
 "nbformat_minor": 5
}
