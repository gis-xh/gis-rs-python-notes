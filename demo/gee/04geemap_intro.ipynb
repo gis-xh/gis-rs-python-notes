{
 "cells": [
  {
   "cell_type": "markdown",
   "id": "f5fcce0d-f989-4d50-aaf8-985957a40720",
   "metadata": {},
   "source": [
    "# GEE 教程（四）：Geemap 包的介绍与使用"
   ]
  },
  {
   "cell_type": "code",
   "execution_count": 1,
   "id": "0441a946-0b37-4659-941a-c9d476e25437",
   "metadata": {},
   "outputs": [],
   "source": [
    "import os\n",
    "import ee\n",
    "import geemap\n",
    "from IPython.display import display"
   ]
  },
  {
   "cell_type": "code",
   "execution_count": 2,
   "id": "3797135e-c346-4fbe-a2e1-d855bacad108",
   "metadata": {},
   "outputs": [],
   "source": [
    "geemap.set_proxy(port=\"7890\")"
   ]
  },
  {
   "cell_type": "code",
   "execution_count": 3,
   "id": "c2d362bf-257f-4ad1-ada8-6b0060925a3c",
   "metadata": {},
   "outputs": [
    {
     "data": {
      "application/vnd.jupyter.widget-view+json": {
       "model_id": "5517c47b7b41413895fe365e46ee4295",
       "version_major": 2,
       "version_minor": 0
      },
      "text/plain": [
       "Map(center=[30, 114], controls=(WidgetControl(options=['position', 'transparent_bg'], widget=HBox(children=(To…"
      ]
     },
     "metadata": {},
     "output_type": "display_data"
    }
   ],
   "source": [
    "Map = geemap.Map(center=[30, 114], zoom=7)\n",
    "Map"
   ]
  },
  {
   "cell_type": "code",
   "execution_count": 4,
   "id": "60de68e5-44e2-46b9-ab65-6f0d3cdb489b",
   "metadata": {},
   "outputs": [],
   "source": [
    "%load_ext sql"
   ]
  },
  {
   "cell_type": "code",
   "execution_count": 5,
   "id": "6b5c69e1-52c5-45f3-af53-fde0509f4fcb",
   "metadata": {},
   "outputs": [],
   "source": [
    "host = \"localhost\"\n",
    "database = \"yangtze\"\n",
    "user = \"postgres\"\n",
    "password = \"123qwe\"\n",
    "connection_string = f\"postgresql://{user}:{password}@{host}/{database}\""
   ]
  },
  {
   "cell_type": "code",
   "execution_count": 6,
   "id": "b68ff3a3-9b91-4d44-a233-f014d0475fe2",
   "metadata": {},
   "outputs": [
    {
     "data": {
      "text/plain": [
       "'Connected: postgres@yangtze'"
      ]
     },
     "execution_count": 6,
     "metadata": {},
     "output_type": "execute_result"
    }
   ],
   "source": [
    "%sql $connection_string"
   ]
  },
  {
   "cell_type": "code",
   "execution_count": 7,
   "id": "b854f9d2-93b8-40a5-b192-b57361e3ff5c",
   "metadata": {},
   "outputs": [
    {
     "data": {
      "text/html": [
       "<div>\n",
       "<style scoped>\n",
       "    .dataframe tbody tr th:only-of-type {\n",
       "        vertical-align: middle;\n",
       "    }\n",
       "\n",
       "    .dataframe tbody tr th {\n",
       "        vertical-align: top;\n",
       "    }\n",
       "\n",
       "    .dataframe thead th {\n",
       "        text-align: right;\n",
       "    }\n",
       "</style>\n",
       "<table border=\"1\" class=\"dataframe\">\n",
       "  <thead>\n",
       "    <tr style=\"text-align: right;\">\n",
       "      <th></th>\n",
       "      <th>id</th>\n",
       "      <th>geom</th>\n",
       "      <th>name</th>\n",
       "    </tr>\n",
       "  </thead>\n",
       "  <tbody>\n",
       "    <tr>\n",
       "      <th>0</th>\n",
       "      <td>1</td>\n",
       "      <td>POLYGON ((502120.945 3379683.981, 502121.369 3...</td>\n",
       "      <td>校内1栋</td>\n",
       "    </tr>\n",
       "    <tr>\n",
       "      <th>1</th>\n",
       "      <td>2</td>\n",
       "      <td>POLYGON ((502137.493 3379596.149, 502133.391 3...</td>\n",
       "      <td>校内2栋</td>\n",
       "    </tr>\n",
       "    <tr>\n",
       "      <th>2</th>\n",
       "      <td>6</td>\n",
       "      <td>POLYGON ((502195.802 3379344.171, 502182.809 3...</td>\n",
       "      <td>安全与后勤保障部</td>\n",
       "    </tr>\n",
       "    <tr>\n",
       "      <th>3</th>\n",
       "      <td>7</td>\n",
       "      <td>POLYGON ((502152.627 3379264.209, 502152.591 3...</td>\n",
       "      <td>学生事务部</td>\n",
       "    </tr>\n",
       "    <tr>\n",
       "      <th>4</th>\n",
       "      <td>8</td>\n",
       "      <td>POLYGON ((502095.411 3379095.188, 502116.651 3...</td>\n",
       "      <td>图书馆</td>\n",
       "    </tr>\n",
       "    <tr>\n",
       "      <th>5</th>\n",
       "      <td>9</td>\n",
       "      <td>POLYGON ((502518.981 3378904.169, 502519.127 3...</td>\n",
       "      <td>石油科技大楼</td>\n",
       "    </tr>\n",
       "    <tr>\n",
       "      <th>6</th>\n",
       "      <td>11</td>\n",
       "      <td>POLYGON ((502267.999 3379146.574, 502285.517 3...</td>\n",
       "      <td>武教A楼</td>\n",
       "    </tr>\n",
       "    <tr>\n",
       "      <th>7</th>\n",
       "      <td>12</td>\n",
       "      <td>POLYGON ((502386.830 3379231.974, 502433.544 3...</td>\n",
       "      <td>武教B楼</td>\n",
       "    </tr>\n",
       "    <tr>\n",
       "      <th>8</th>\n",
       "      <td>13</td>\n",
       "      <td>POLYGON ((502255.445 3379323.433, 502256.321 3...</td>\n",
       "      <td>体育馆</td>\n",
       "    </tr>\n",
       "    <tr>\n",
       "      <th>9</th>\n",
       "      <td>3</td>\n",
       "      <td>POLYGON ((502134.099 3379452.590, 502119.460 3...</td>\n",
       "      <td>校内3栋</td>\n",
       "    </tr>\n",
       "    <tr>\n",
       "      <th>10</th>\n",
       "      <td>4</td>\n",
       "      <td>POLYGON ((502093.824 3379369.849, 502079.822 3...</td>\n",
       "      <td>校内4栋</td>\n",
       "    </tr>\n",
       "    <tr>\n",
       "      <th>11</th>\n",
       "      <td>5</td>\n",
       "      <td>POLYGON ((502053.322 3379287.822, 502052.884 3...</td>\n",
       "      <td>食堂</td>\n",
       "    </tr>\n",
       "    <tr>\n",
       "      <th>12</th>\n",
       "      <td>10</td>\n",
       "      <td>POLYGON ((502326.247 3379051.685, 502372.669 3...</td>\n",
       "      <td>实验楼</td>\n",
       "    </tr>\n",
       "  </tbody>\n",
       "</table>\n",
       "</div>"
      ],
      "text/plain": [
       "    id                                               geom      name\n",
       "0    1  POLYGON ((502120.945 3379683.981, 502121.369 3...      校内1栋\n",
       "1    2  POLYGON ((502137.493 3379596.149, 502133.391 3...      校内2栋\n",
       "2    6  POLYGON ((502195.802 3379344.171, 502182.809 3...  安全与后勤保障部\n",
       "3    7  POLYGON ((502152.627 3379264.209, 502152.591 3...     学生事务部\n",
       "4    8  POLYGON ((502095.411 3379095.188, 502116.651 3...       图书馆\n",
       "5    9  POLYGON ((502518.981 3378904.169, 502519.127 3...    石油科技大楼\n",
       "6   11  POLYGON ((502267.999 3379146.574, 502285.517 3...      武教A楼\n",
       "7   12  POLYGON ((502386.830 3379231.974, 502433.544 3...      武教B楼\n",
       "8   13  POLYGON ((502255.445 3379323.433, 502256.321 3...       体育馆\n",
       "9    3  POLYGON ((502134.099 3379452.590, 502119.460 3...      校内3栋\n",
       "10   4  POLYGON ((502093.824 3379369.849, 502079.822 3...      校内4栋\n",
       "11   5  POLYGON ((502053.322 3379287.822, 502052.884 3...        食堂\n",
       "12  10  POLYGON ((502326.247 3379051.685, 502372.669 3...       实验楼"
      ]
     },
     "metadata": {},
     "output_type": "display_data"
    },
    {
     "data": {
      "text/html": [
       "<div>\n",
       "<style scoped>\n",
       "    .dataframe tbody tr th:only-of-type {\n",
       "        vertical-align: middle;\n",
       "    }\n",
       "\n",
       "    .dataframe tbody tr th {\n",
       "        vertical-align: top;\n",
       "    }\n",
       "\n",
       "    .dataframe thead th {\n",
       "        text-align: right;\n",
       "    }\n",
       "</style>\n",
       "<table border=\"1\" class=\"dataframe\">\n",
       "  <thead>\n",
       "    <tr style=\"text-align: right;\">\n",
       "      <th></th>\n",
       "      <th>id</th>\n",
       "      <th>geom</th>\n",
       "      <th>name</th>\n",
       "    </tr>\n",
       "  </thead>\n",
       "  <tbody>\n",
       "    <tr>\n",
       "      <th>0</th>\n",
       "      <td>1</td>\n",
       "      <td>POLYGON ((502120.945 3379683.981, 502121.369 3...</td>\n",
       "      <td>校内1栋</td>\n",
       "    </tr>\n",
       "    <tr>\n",
       "      <th>1</th>\n",
       "      <td>2</td>\n",
       "      <td>POLYGON ((502137.493 3379596.149, 502133.391 3...</td>\n",
       "      <td>校内2栋</td>\n",
       "    </tr>\n",
       "    <tr>\n",
       "      <th>2</th>\n",
       "      <td>6</td>\n",
       "      <td>POLYGON ((502195.802 3379344.171, 502182.809 3...</td>\n",
       "      <td>安全与后勤保障部</td>\n",
       "    </tr>\n",
       "    <tr>\n",
       "      <th>3</th>\n",
       "      <td>7</td>\n",
       "      <td>POLYGON ((502152.627 3379264.209, 502152.591 3...</td>\n",
       "      <td>学生事务部</td>\n",
       "    </tr>\n",
       "    <tr>\n",
       "      <th>4</th>\n",
       "      <td>8</td>\n",
       "      <td>POLYGON ((502095.411 3379095.188, 502116.651 3...</td>\n",
       "      <td>图书馆</td>\n",
       "    </tr>\n",
       "    <tr>\n",
       "      <th>5</th>\n",
       "      <td>9</td>\n",
       "      <td>POLYGON ((502518.981 3378904.169, 502519.127 3...</td>\n",
       "      <td>石油科技大楼</td>\n",
       "    </tr>\n",
       "    <tr>\n",
       "      <th>6</th>\n",
       "      <td>11</td>\n",
       "      <td>POLYGON ((502267.999 3379146.574, 502285.517 3...</td>\n",
       "      <td>武教A楼</td>\n",
       "    </tr>\n",
       "    <tr>\n",
       "      <th>7</th>\n",
       "      <td>12</td>\n",
       "      <td>POLYGON ((502386.830 3379231.974, 502433.544 3...</td>\n",
       "      <td>武教B楼</td>\n",
       "    </tr>\n",
       "    <tr>\n",
       "      <th>8</th>\n",
       "      <td>13</td>\n",
       "      <td>POLYGON ((502255.445 3379323.433, 502256.321 3...</td>\n",
       "      <td>体育馆</td>\n",
       "    </tr>\n",
       "    <tr>\n",
       "      <th>9</th>\n",
       "      <td>3</td>\n",
       "      <td>POLYGON ((502134.099 3379452.590, 502119.460 3...</td>\n",
       "      <td>校内3栋</td>\n",
       "    </tr>\n",
       "    <tr>\n",
       "      <th>10</th>\n",
       "      <td>4</td>\n",
       "      <td>POLYGON ((502093.824 3379369.849, 502079.822 3...</td>\n",
       "      <td>校内4栋</td>\n",
       "    </tr>\n",
       "    <tr>\n",
       "      <th>11</th>\n",
       "      <td>5</td>\n",
       "      <td>POLYGON ((502053.322 3379287.822, 502052.884 3...</td>\n",
       "      <td>食堂</td>\n",
       "    </tr>\n",
       "    <tr>\n",
       "      <th>12</th>\n",
       "      <td>10</td>\n",
       "      <td>POLYGON ((502326.247 3379051.685, 502372.669 3...</td>\n",
       "      <td>实验楼</td>\n",
       "    </tr>\n",
       "  </tbody>\n",
       "</table>\n",
       "</div>"
      ],
      "text/plain": [
       "    id                                               geom      name\n",
       "0    1  POLYGON ((502120.945 3379683.981, 502121.369 3...      校内1栋\n",
       "1    2  POLYGON ((502137.493 3379596.149, 502133.391 3...      校内2栋\n",
       "2    6  POLYGON ((502195.802 3379344.171, 502182.809 3...  安全与后勤保障部\n",
       "3    7  POLYGON ((502152.627 3379264.209, 502152.591 3...     学生事务部\n",
       "4    8  POLYGON ((502095.411 3379095.188, 502116.651 3...       图书馆\n",
       "5    9  POLYGON ((502518.981 3378904.169, 502519.127 3...    石油科技大楼\n",
       "6   11  POLYGON ((502267.999 3379146.574, 502285.517 3...      武教A楼\n",
       "7   12  POLYGON ((502386.830 3379231.974, 502433.544 3...      武教B楼\n",
       "8   13  POLYGON ((502255.445 3379323.433, 502256.321 3...       体育馆\n",
       "9    3  POLYGON ((502134.099 3379452.590, 502119.460 3...      校内3栋\n",
       "10   4  POLYGON ((502093.824 3379369.849, 502079.822 3...      校内4栋\n",
       "11   5  POLYGON ((502053.322 3379287.822, 502052.884 3...        食堂\n",
       "12  10  POLYGON ((502326.247 3379051.685, 502372.669 3...       实验楼"
      ]
     },
     "metadata": {},
     "output_type": "display_data"
    }
   ],
   "source": [
    "sql1 = 'SELECT * FROM campus'\n",
    "sql2 = 'SELECT * FROM hualin'\n",
    "gdf1 = geemap.read_postgis(sql1, connection_string)\n",
    "gdf2 = geemap.read_postgis(sql1, connection_string)\n",
    "display(gdf1,gdf1)"
   ]
  },
  {
   "cell_type": "code",
   "execution_count": 34,
   "id": "0fc44dcb-b52f-40da-878a-47ba9aea90c7",
   "metadata": {},
   "outputs": [
    {
     "data": {
      "application/vnd.jupyter.widget-view+json": {
       "model_id": "226854d403bc4a9b9c50e67289964ced",
       "version_major": 2,
       "version_minor": 0
      },
      "text/plain": [
       "Map(center=[20, 0], controls=(WidgetControl(options=['position', 'transparent_bg'], widget=HBox(children=(Togg…"
      ]
     },
     "metadata": {},
     "output_type": "display_data"
    }
   ],
   "source": [
    "m = geemap.Map()\n",
    "campusLayer = m.add_gdf_from_postgis(\n",
    "    sql1, connection_string, layer_name=\"校内区域\", fill_colors=[\"red\", \"green\", \"blue\"]\n",
    ")\n",
    "hualinLayer = m.add_gdf_from_postgis(\n",
    "    sql2, connection_string, layer_name=\"华林区域\", fill_colors=[\"red\", \"green\", \"yellow\"]\n",
    ")\n",
    "m.add_basemap('SATELLITE')\n",
    "display(m)"
   ]
  },
  {
   "cell_type": "code",
   "execution_count": null,
   "id": "f90d86e9-2818-4a68-85b4-991bf8e7ccd3",
   "metadata": {},
   "outputs": [],
   "source": []
  },
  {
   "cell_type": "code",
   "execution_count": null,
   "id": "3243dda8-2e4f-4e90-8d28-e1fde17aa478",
   "metadata": {},
   "outputs": [],
   "source": []
  }
 ],
 "metadata": {
  "kernelspec": {
   "display_name": "Python 3 (ipykernel)",
   "language": "python",
   "name": "python3"
  },
  "language_info": {
   "codemirror_mode": {
    "name": "ipython",
    "version": 3
   },
   "file_extension": ".py",
   "mimetype": "text/x-python",
   "name": "python",
   "nbconvert_exporter": "python",
   "pygments_lexer": "ipython3",
   "version": "3.9.16"
  }
 },
 "nbformat": 4,
 "nbformat_minor": 5
}
