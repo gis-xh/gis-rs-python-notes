{
 "cells": [
  {
   "cell_type": "markdown",
   "id": "742b3fc1-89dc-4069-9460-fa428ced7feb",
   "metadata": {},
   "source": [
    "# GEE 教程（六）：不限大小下载哨兵数据"
   ]
  },
  {
   "cell_type": "code",
   "execution_count": 1,
   "id": "edd73662-aae5-4852-86e8-c75cf6ef7284",
   "metadata": {},
   "outputs": [],
   "source": [
    "import os\n",
    "import ee\n",
    "import geemap\n",
    "ee.Initialize()\n",
    "geemap.set_proxy(port=\"7890\")"
   ]
  },
  {
   "cell_type": "markdown",
   "id": "eb35060e-8386-4ce8-8f3d-3be2812df4f2",
   "metadata": {},
   "source": [
    "## 1 数据准备"
   ]
  },
  {
   "cell_type": "markdown",
   "id": "c8572227-61b5-4e9f-a238-330a9ae14aec",
   "metadata": {},
   "source": [
    "### 1.1 加载数据"
   ]
  },
  {
   "cell_type": "code",
   "execution_count": 2,
   "id": "78482995-a905-4a8b-b354-a9a366afae98",
   "metadata": {},
   "outputs": [],
   "source": [
    "s2 = ee.ImageCollection('COPERNICUS/S2_SR_HARMONIZED')\n",
    "huainan = geemap.geojson_to_ee(\"./input/huainan.json\")"
   ]
  },
  {
   "cell_type": "markdown",
   "id": "632e55d4-4efd-4f60-a7cf-3b75e2deade7",
   "metadata": {},
   "source": [
    "### 1.2 数据预处理"
   ]
  },
  {
   "cell_type": "code",
   "execution_count": 3,
   "id": "ecb741cc-3e12-474b-89ff-f4e863270422",
   "metadata": {},
   "outputs": [],
   "source": [
    "# 将ee.FeatureCollection转换为ee.geometry格式的最小外接矩形\n",
    "roi = huainan.geometry().bounds()"
   ]
  },
  {
   "cell_type": "code",
   "execution_count": 4,
   "id": "dd08cac8-8cbf-495a-b906-600685a9a188",
   "metadata": {},
   "outputs": [],
   "source": [
    "# 借助 QA60 字段去云\n",
    "def maskS2clouds(image):\n",
    "    qa = image.select('QA60')\n",
    "    # Bits 10 and 11是云，我们要把它mask掉\n",
    "    cloudBitMask = 1 << 10\n",
    "    cirrusBitMask = 1 << 1\n",
    "    # 这两个标志都应该设置为0，表示条件明确。\n",
    "    mask = qa.bitwiseAnd(cloudBitMask).eq(0) \\\n",
    "        .And(qa.bitwiseAnd(cirrusBitMask).eq(0))\n",
    "    # 哨兵的像元值是反射率的10000倍，要除以10000\n",
    "    return image.updateMask(mask).divide(10000)"
   ]
  },
  {
   "cell_type": "code",
   "execution_count": 5,
   "id": "3957873f-5a0b-461c-9c73-cabe8e35ef9f",
   "metadata": {},
   "outputs": [],
   "source": [
    "# 筛选出待下载的哨兵影像数据\n",
    "collection = s2.filterDate('2022-01-01', '2022-12-31') \\\n",
    "              .filter(ee.Filter.lt('CLOUDY_PIXEL_PERCENTAGE', 10)) \\\n",
    "              .filterBounds(huainan) \\\n",
    "              .map(maskS2clouds) \\\n",
    "              .select('B[1-8]')"
   ]
  },
  {
   "cell_type": "code",
   "execution_count": 6,
   "id": "81ac6cf7-2433-4ccd-888b-d812be5312fe",
   "metadata": {},
   "outputs": [],
   "source": [
    "img = collection.first().clip(roi)"
   ]
  },
  {
   "cell_type": "code",
   "execution_count": 7,
   "id": "8273823a-5327-45a5-b768-e84e48b0ef8f",
   "metadata": {},
   "outputs": [],
   "source": [
    "composite = collection.median().clip(roi)"
   ]
  },
  {
   "cell_type": "markdown",
   "id": "5b8d7220-148b-4fb1-91cc-6bf1766f17a8",
   "metadata": {},
   "source": [
    "### 1.3 数据显示"
   ]
  },
  {
   "cell_type": "code",
   "execution_count": 8,
   "id": "1aca1336-fa9b-4a13-ae2d-35e486219167",
   "metadata": {},
   "outputs": [],
   "source": [
    "rgbVis = {\n",
    "  'min': 0.0,\n",
    "  'max': 0.3,\n",
    "  'bands': ['B4', 'B3', 'B2'],\n",
    "}"
   ]
  },
  {
   "cell_type": "code",
   "execution_count": 9,
   "id": "dceddfb0-0d49-44de-b5fa-1f81e4a7a0d6",
   "metadata": {},
   "outputs": [],
   "source": [
    "# 设置显示样式：color代表边界颜色；fillcolor代表填充颜色\n",
    "styling = {\n",
    "    'color': 'red',\n",
    "    'fillColor': '00000000'\n",
    "}"
   ]
  },
  {
   "cell_type": "code",
   "execution_count": 10,
   "id": "d3956560-9096-4c19-ba8e-622476ba87f0",
   "metadata": {},
   "outputs": [
    {
     "data": {
      "application/vnd.jupyter.widget-view+json": {
       "model_id": "2d4b075db38c4fcc90b26bbf2dbd6da4",
       "version_major": 2,
       "version_minor": 0
      },
      "text/plain": [
       "Map(center=[32.469746984879926, 116.77362718431694], controls=(WidgetControl(options=['position', 'transparent…"
      ]
     },
     "metadata": {},
     "output_type": "display_data"
    }
   ],
   "source": [
    "Map = geemap.Map()\n",
    "# Map.addLayer(img, rgbVis, '淮南市Sentinel-2影像')\n",
    "Map.addLayer(composite, rgbVis, '淮南市S2影像')\n",
    "Map.addLayer(huainan.style(**styling), {}, '淮南市边界')\n",
    "Map.centerObject(huainan, 9)\n",
    "Map"
   ]
  },
  {
   "cell_type": "markdown",
   "id": "5fad51d2-ef7f-4568-a028-600ad489f8d6",
   "metadata": {},
   "source": [
    "## 2 下载影像"
   ]
  },
  {
   "cell_type": "markdown",
   "id": "b9a710cc-7859-4d47-b19d-384b7cb16317",
   "metadata": {},
   "source": [
    "### 2.1 配置输出目录"
   ]
  },
  {
   "cell_type": "code",
   "execution_count": 11,
   "id": "c8ece8ad-07b1-4864-bb65-7871d0cb4890",
   "metadata": {
    "tags": []
   },
   "outputs": [],
   "source": [
    "work_dir = os.path.join(\n",
    "    os.path.expanduser(\"E:\\\\researchData\\\\geeDownloads\"),\n",
    "    'tif'\n",
    ")\n",
    "if not os.path.exists(work_dir):\n",
    "    os.makedirs(work_dir)"
   ]
  },
  {
   "cell_type": "code",
   "execution_count": 12,
   "id": "e8f86cbf-0a5a-4a34-aec8-ce41469a63c1",
   "metadata": {},
   "outputs": [],
   "source": [
    "out_tif = os.path.join(work_dir, \"S2_SR_2022_huainan.tif\")"
   ]
  },
  {
   "cell_type": "markdown",
   "id": "4464d1ad-f697-4558-9605-2620666c200c",
   "metadata": {},
   "source": [
    "### 2.2 下载数据"
   ]
  },
  {
   "cell_type": "code",
   "execution_count": 13,
   "id": "864f4198-12fc-4f1c-9687-87bb657c7dbe",
   "metadata": {},
   "outputs": [
    {
     "name": "stderr",
     "output_type": "stream",
     "text": [
      "Consider adjusting `region`, `scale` and/or `dtype` to reduce the S2_SR_2022_huainan.tif download size (raw: 3.71 GB).\n"
     ]
    },
    {
     "data": {
      "application/vnd.jupyter.widget-view+json": {
       "model_id": "3788a1c604774971877bac945e4fd2f3",
       "version_major": 2,
       "version_minor": 0
      },
      "text/plain": [
       "S2_SR_2022_huainan.tif: |          | 0.00/3.71G (raw) [  0.0%] in 00:00 (eta:     ?)"
      ]
     },
     "metadata": {},
     "output_type": "display_data"
    },
    {
     "name": "stderr",
     "output_type": "stream",
     "text": [
      "There is no STAC entry for: None\n"
     ]
    }
   ],
   "source": [
    "# 下载哨兵影像数据\n",
    "geemap.download_ee_image(\n",
    "    image=composite,\n",
    "    filename=out_tif,\n",
    "    region=roi,\n",
    "    crs=\"EPSG:4326\",\n",
    "    scale=10,\n",
    ")"
   ]
  }
 ],
 "metadata": {
  "kernelspec": {
   "display_name": "Python 3 (ipykernel)",
   "language": "python",
   "name": "python3"
  },
  "language_info": {
   "codemirror_mode": {
    "name": "ipython",
    "version": 3
   },
   "file_extension": ".py",
   "mimetype": "text/x-python",
   "name": "python",
   "nbconvert_exporter": "python",
   "pygments_lexer": "ipython3",
   "version": "3.9.16"
  }
 },
 "nbformat": 4,
 "nbformat_minor": 5
}
