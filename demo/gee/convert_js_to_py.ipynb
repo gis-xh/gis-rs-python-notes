{
 "cells": [
  {
   "attachments": {},
   "cell_type": "markdown",
   "id": "eabcb0e4-27b8-44ef-b579-7c7cf0751ef2",
   "metadata": {},
   "source": [
    "# GEE JavaScript 转换 Python 代码"
   ]
  },
  {
   "cell_type": "code",
   "execution_count": 1,
   "id": "e3ef7e1f-15d0-42df-8ceb-a594257f2c8c",
   "metadata": {},
   "outputs": [],
   "source": [
    "import ee\n",
    "import geemap\n",
    "ee.Initialize()\n",
    "geemap.set_proxy(port=\"7890\")"
   ]
  },
  {
   "cell_type": "code",
   "execution_count": 2,
   "id": "5990a9e2-d874-41ef-ae85-ecf6921946d1",
   "metadata": {},
   "outputs": [
    {
     "name": "stdout",
     "output_type": "stream",
     "text": [
      "geemap:  0.23.2\n"
     ]
    }
   ],
   "source": [
    "print('geemap: ', geemap.__version__)"
   ]
  },
  {
   "cell_type": "code",
   "execution_count": 3,
   "id": "7248c7a9-094e-4282-8e0d-e65469c6207f",
   "metadata": {},
   "outputs": [],
   "source": [
    "js_snippet = \"\"\"\n",
    "\n",
    "// Define a random forest classifier.\n",
    "var rf=ee.Classifier.smileRandomForest({\n",
    "   numberOfTrees: 50,\n",
    "   minLeafPopulation: 10,\n",
    "   seed: 0\n",
    "});\n",
    "\n",
    "\"\"\""
   ]
  },
  {
   "cell_type": "code",
   "execution_count": 4,
   "id": "6cb09c18-94ba-4509-90c8-cb8414977245",
   "metadata": {},
   "outputs": [],
   "source": [
    "geemap.js_snippet_to_py(js_snippet, add_new_cell=True)"
   ]
  },
  {
   "cell_type": "code",
   "execution_count": null,
   "id": "a1cfe5f2",
   "metadata": {},
   "outputs": [],
   "source": [
    "import ee\n",
    "\n",
    "# Define a random forest classifier.\n",
    "rf=ee.Classifier.smileRandomForest({\n",
    "   'numberOfTrees': 50,\n",
    "   'minLeafPopulation': 10,\n",
    "   'seed': 0\n",
    "})\n",
    "\n",
    "Map"
   ]
  },
  {
   "cell_type": "code",
   "execution_count": null,
   "id": "25cdf5b5-372d-4c48-9216-113fdc23293f",
   "metadata": {},
   "outputs": [],
   "source": []
  }
 ],
 "metadata": {
  "kernelspec": {
   "display_name": "Python 3 (ipykernel)",
   "language": "python",
   "name": "python3"
  },
  "language_info": {
   "codemirror_mode": {
    "name": "ipython",
    "version": 3
   },
   "file_extension": ".py",
   "mimetype": "text/x-python",
   "name": "python",
   "nbconvert_exporter": "python",
   "pygments_lexer": "ipython3",
   "version": "3.9.16"
  }
 },
 "nbformat": 4,
 "nbformat_minor": 5
}
