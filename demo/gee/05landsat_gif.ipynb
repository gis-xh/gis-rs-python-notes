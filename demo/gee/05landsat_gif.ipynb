{
 "cells": [
  {
   "cell_type": "markdown",
   "id": "1365155a-a4ac-4611-938c-661162af671d",
   "metadata": {
    "tags": []
   },
   "source": [
    "# GEE 教程（五）：用 Geemap 制作家乡40年变迁动画"
   ]
  },
  {
   "cell_type": "code",
   "execution_count": 1,
   "id": "ba27d323-b13c-4b81-86e2-8af971363141",
   "metadata": {
    "tags": []
   },
   "outputs": [],
   "source": [
    "import os\n",
    "import ee\n",
    "import geemap\n",
    "ee.Initialize()\n",
    "geemap.set_proxy(port=\"7890\")"
   ]
  },
  {
   "cell_type": "markdown",
   "id": "dc871c16-a661-49e0-89f9-bc26fb48c1da",
   "metadata": {},
   "source": [
    "## 1 添加 GeoJson 数据"
   ]
  },
  {
   "cell_type": "code",
   "execution_count": 2,
   "id": "4866e010-837c-4a8c-88dd-0173b790fb54",
   "metadata": {},
   "outputs": [],
   "source": [
    "huainan = geemap.geojson_to_ee(\"./input/huainan.json\")"
   ]
  },
  {
   "cell_type": "code",
   "execution_count": 3,
   "id": "e3c4a879-ae52-4838-b3fe-169d1ae738dd",
   "metadata": {},
   "outputs": [],
   "source": [
    "tianqu = huainan.filterMetadata('name', 'equals', '田家庵区')"
   ]
  },
  {
   "cell_type": "code",
   "execution_count": 4,
   "id": "19744e98-b929-4f19-858d-2af998d04204",
   "metadata": {},
   "outputs": [
    {
     "data": {
      "application/vnd.jupyter.widget-view+json": {
       "model_id": "d0205b51b2db401e95f5039b75f72bc4",
       "version_major": 2,
       "version_minor": 0
      },
      "text/plain": [
       "Map(center=[32.469746984879926, 116.77362718431694], controls=(WidgetControl(options=['position', 'transparent…"
      ]
     },
     "metadata": {},
     "output_type": "display_data"
    }
   ],
   "source": [
    "Map = geemap.Map()\n",
    "Map.addLayer(huainan, {}, '淮南市', opacity=0.35)\n",
    "Map.addLayer(tianqu, {}, '田家庵区', opacity=0.5)\n",
    "Map.centerObject(huainan, zoom=9)\n",
    "Map"
   ]
  },
  {
   "cell_type": "markdown",
   "id": "fec55058-6d43-4659-81fc-85327c47e047",
   "metadata": {},
   "source": [
    "## 2 生成基于 Landsat 的时间序列 GIF 动图"
   ]
  },
  {
   "cell_type": "markdown",
   "id": "8d1e86ed-edf9-4288-b44d-c24e23b94855",
   "metadata": {},
   "source": [
    "### 2.1 创建输出目录"
   ]
  },
  {
   "cell_type": "code",
   "execution_count": 5,
   "id": "3e36c02d-f718-4ec8-bc27-b084786bb424",
   "metadata": {},
   "outputs": [],
   "source": [
    "work_dir = os.path.join(os.path.expanduser(\".\"), 'output')\n",
    "if not os.path.exists(work_dir):\n",
    "    os.makedirs(work_dir)"
   ]
  },
  {
   "cell_type": "code",
   "execution_count": 6,
   "id": "04b6bc5d-4cbd-4960-bfa6-dd0e747d1aca",
   "metadata": {},
   "outputs": [],
   "source": [
    "out_gif = os.path.join(work_dir, \"tianqu_landsat_ts.gif\")"
   ]
  },
  {
   "cell_type": "markdown",
   "id": "75655412-73c3-4df0-87f0-f36b952bff72",
   "metadata": {},
   "source": [
    "### 2.2 配置动画函数参数"
   ]
  },
  {
   "cell_type": "code",
   "execution_count": 7,
   "id": "6b10365a-df1d-49f3-a892-9b26cdbd48d7",
   "metadata": {},
   "outputs": [],
   "source": [
    "label = 'Urban Growth in Tianjia-an District'\n",
    "roi = tianqu.geometry()\n",
    "start_year = 1998\n",
    "end_year = 2022\n",
    "bands = ['Red', 'Green', 'Blue']"
   ]
  },
  {
   "cell_type": "markdown",
   "id": "d281b6c8-a4ac-488c-9d4c-f92726c03451",
   "metadata": {},
   "source": [
    "### 2.3 使用动画函数"
   ]
  },
  {
   "cell_type": "code",
   "execution_count": 8,
   "id": "a2970057-347e-4817-92f2-fd8f3286dd96",
   "metadata": {},
   "outputs": [
    {
     "name": "stdout",
     "output_type": "stream",
     "text": [
      "Generating URL...\n",
      "Downloading GIF image from https://earthengine.googleapis.com/v1alpha/projects/earthengine-legacy/videoThumbnails/34481daae42ad35e6f4226bb1a3b2f4f-e6272800cb14389c122096d3d9bd8f76:getPixels\n",
      "Please wait ...\n",
      "The GIF image has been saved to: E:\\myDemo\\geeDemo\\output\\tianqu_landsat_ts.gif\n",
      "Adding GIF to the map ...\n",
      "The timelapse has been added to the map.\n"
     ]
    },
    {
     "data": {
      "application/vnd.jupyter.widget-view+json": {
       "model_id": "d0205b51b2db401e95f5039b75f72bc4",
       "version_major": 2,
       "version_minor": 0
      },
      "text/plain": [
       "Map(bottom=53325.0, center=[32.469746984879926, 116.77362718431694], controls=(WidgetControl(options=['positio…"
      ]
     },
     "metadata": {},
     "output_type": "display_data"
    }
   ],
   "source": [
    "Map.add_landsat_ts_gif(\n",
    "    label=label,\n",
    "    roi=roi,\n",
    "    start_year=start_year,\n",
    "    end_year=end_year,\n",
    "    bands=bands,\n",
    "    font_color='white',\n",
    "    frames_per_second=5,\n",
    "    progress_bar_color='blue',\n",
    "    out_gif=out_gif\n",
    ")\n",
    "Map"
   ]
  },
  {
   "cell_type": "code",
   "execution_count": null,
   "id": "8be9dc64-4bc7-4f77-9645-7dac17b98384",
   "metadata": {},
   "outputs": [],
   "source": [
    "geemap.show_image(out_gif)"
   ]
  }
 ],
 "metadata": {
  "kernelspec": {
   "display_name": "Python 3 (ipykernel)",
   "language": "python",
   "name": "python3"
  },
  "language_info": {
   "codemirror_mode": {
    "name": "ipython",
    "version": 3
   },
   "file_extension": ".py",
   "mimetype": "text/x-python",
   "name": "python",
   "nbconvert_exporter": "python",
   "pygments_lexer": "ipython3",
   "version": "3.9.16"
  }
 },
 "nbformat": 4,
 "nbformat_minor": 5
}
